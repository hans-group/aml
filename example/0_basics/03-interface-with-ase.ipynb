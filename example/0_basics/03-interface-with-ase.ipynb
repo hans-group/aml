{
 "cells": [
  {
   "cell_type": "markdown",
   "metadata": {},
   "source": [
    "# Interfacing aml with ASE\n",
    "\n",
    "- `ASE` provides powerful tools for atomistic simulations\n",
    "- `ASE` has `Calculator` interface that allows computation of properties of `Atoms` using external softwares\n",
    "- `aml` provides `AMLCalculator` for use with ASE"
   ]
  },
  {
   "cell_type": "code",
   "execution_count": 1,
   "metadata": {},
   "outputs": [],
   "source": [
    "import aml\n",
    "import ase.build\n",
    "\n",
    "\n",
    "# Load the pretrained PaiNN model for water molecule\n",
    "model = aml.load_iap(\"../pretrained_model/painn_water_molecule_best.ckpt\")\n",
    "calc = aml.simulations.AMLCalculator(model)\n"
   ]
  },
  {
   "cell_type": "code",
   "execution_count": 3,
   "metadata": {},
   "outputs": [
    {
     "name": "stdout",
     "output_type": "stream",
     "text": [
      "Energy:  -2079.657\n",
      "Forces:\n",
      " [[-0.0000000e+00  2.9802322e-08 -4.2797360e-01]\n",
      " [-0.0000000e+00 -1.4126906e-01  2.1398681e-01]\n",
      " [-0.0000000e+00  1.4126903e-01  2.1398678e-01]]\n"
     ]
    }
   ],
   "source": [
    "atoms = ase.build.molecule(\"H2O\")\n",
    "atoms.calc = calc\n",
    "energy = atoms.get_potential_energy()\n",
    "forces = atoms.get_forces()\n",
    "print(\"Energy: \", energy) # eV\n",
    "print(\"Forces:\\n\", forces) # eV/Angstrom"
   ]
  },
  {
   "cell_type": "code",
   "execution_count": 4,
   "metadata": {},
   "outputs": [
    {
     "name": "stdout",
     "output_type": "stream",
     "text": [
      "      Step     Time          Energy         fmax\n",
      "BFGS:    0 18:02:40    -2079.656982        0.4280\n",
      "BFGS:    1 18:02:40    -2079.658691        0.1118\n",
      "BFGS:    2 18:02:40    -2079.658936        0.0535\n",
      "BFGS:    3 18:02:40    -2079.659180        0.0417\n",
      "BFGS:    4 18:02:40    -2079.659180        0.0190\n",
      "BFGS:    5 18:02:40    -2079.659180        0.0032\n",
      "BFGS:    6 18:02:40    -2079.659180        0.0002\n"
     ]
    },
    {
     "data": {
      "text/plain": [
       "True"
      ]
     },
     "execution_count": 4,
     "metadata": {},
     "output_type": "execute_result"
    }
   ],
   "source": [
    "# Some examples\n",
    "from ase.optimize import BFGS\n",
    "\n",
    "opt = BFGS(atoms)\n",
    "opt.run(fmax=0.001)"
   ]
  }
 ],
 "metadata": {
  "kernelspec": {
   "display_name": "venv",
   "language": "python",
   "name": "python3"
  },
  "language_info": {
   "codemirror_mode": {
    "name": "ipython",
    "version": 3
   },
   "file_extension": ".py",
   "mimetype": "text/x-python",
   "name": "python",
   "nbconvert_exporter": "python",
   "pygments_lexer": "ipython3",
   "version": "3.10.2"
  },
  "orig_nbformat": 4
 },
 "nbformat": 4,
 "nbformat_minor": 2
}
