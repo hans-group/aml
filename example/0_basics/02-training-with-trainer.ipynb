{
 "cells": [
  {
   "cell_type": "markdown",
   "metadata": {},
   "source": [
    "# Using `PotentialTrainer` to train the model\n",
    "\n",
    "- `aml.train.trainer.PotentialTrainer` wraps complicated training process\n",
    "- It has a lot of parameters, therefore using configuration file is recommended (ex. `yaml` format)\n",
    "  - `PotentialTrainer` can be initialized using `PotentialTrainer.from_config`\n",
    "- See `config_schnet.yaml` for example config for this example\n",
    "- Run `trainer.train()` to start training\n",
    "- If you use tensorboard as logger, run `tensorboard --logdir tensorboard` to monitor progress."
   ]
  },
  {
   "cell_type": "code",
   "execution_count": 1,
   "metadata": {},
   "outputs": [],
   "source": [
    "import aml\n",
    "import yaml\n",
    "\n",
    "with open(\"config_schnet.yaml\", \"r\") as f:\n",
    "    config = yaml.full_load(f)\n",
    "\n",
    "trainer = aml.train.PotentialTrainer.from_config(config)"
   ]
  },
  {
   "cell_type": "code",
   "execution_count": 2,
   "metadata": {},
   "outputs": [
    {
     "name": "stdout",
     "output_type": "stream",
     "text": [
      "Training schnet_water...\n",
      "Experiment directory: experiments/schnet_water\n",
      "Building model...\n",
      "Model info:\n",
      "{'compute_force': True,\n",
      " 'compute_hessian': False,\n",
      " 'compute_stress': False,\n",
      " 'energy_model': {'@category': 'energy_model',\n",
      "                  '@name': 'schnet',\n",
      "                  'cutoff': 5.0,\n",
      "                  'hidden_channels': 128,\n",
      "                  'n_filters': 128,\n",
      "                  'n_interactions': 6,\n",
      "                  'n_rbf': 50,\n",
      "                  'rbf_type': 'gaussian',\n",
      "                  'species': ['H', 'O'],\n",
      "                  'trainable_rbf': False}}\n",
      "Building datasets...\n"
     ]
    },
    {
     "name": "stderr",
     "output_type": "stream",
     "text": [
      "GPU available: True (cuda), used: True\n",
      "TPU available: False, using: 0 TPU cores\n",
      "IPU available: False, using: 0 IPUs\n",
      "HPU available: False, using: 0 HPUs\n",
      "You are using a CUDA device ('NVIDIA GeForce RTX 3090') that has Tensor Cores. To properly utilize them, you should set `torch.set_float32_matmul_precision('medium' | 'high')` which will trade-off precision for performance. For more details, read https://pytorch.org/docs/stable/generated/torch.set_float32_matmul_precision.html#torch.set_float32_matmul_precision\n",
      "/home/mjhong/workspace/devel/aml/venv/lib/python3.10/site-packages/pytorch_lightning/callbacks/model_checkpoint.py:615: UserWarning: Checkpoint directory /home/mjhong/workspace/devel/aml/example/0_basics/experiments/schnet_water/checkpoints exists and is not empty.\n",
      "  rank_zero_warn(f\"Checkpoint directory {dirpath} exists and is not empty.\")\n",
      "LOCAL_RANK: 0 - CUDA_VISIBLE_DEVICES: [0,1]\n"
     ]
    },
    {
     "data": {
      "text/html": [
       "<pre style=\"white-space:pre;overflow-x:auto;line-height:normal;font-family:Menlo,'DejaVu Sans Mono',consolas,'Courier New',monospace\">┏━━━┳━━━━━━━━━┳━━━━━━━━━━━━━━━━━━━━━━┳━━━━━━━━┓\n",
       "┃<span style=\"color: #800080; text-decoration-color: #800080; font-weight: bold\">   </span>┃<span style=\"color: #800080; text-decoration-color: #800080; font-weight: bold\"> Name    </span>┃<span style=\"color: #800080; text-decoration-color: #800080; font-weight: bold\"> Type                 </span>┃<span style=\"color: #800080; text-decoration-color: #800080; font-weight: bold\"> Params </span>┃\n",
       "┡━━━╇━━━━━━━━━╇━━━━━━━━━━━━━━━━━━━━━━╇━━━━━━━━┩\n",
       "│<span style=\"color: #7f7f7f; text-decoration-color: #7f7f7f\"> 0 </span>│ model   │ InterAtomicPotential │  455 K │\n",
       "│<span style=\"color: #7f7f7f; text-decoration-color: #7f7f7f\"> 1 </span>│ loss_fn │ WeightedSumLoss      │      0 │\n",
       "└───┴─────────┴──────────────────────┴────────┘\n",
       "</pre>\n"
      ],
      "text/plain": [
       "┏━━━┳━━━━━━━━━┳━━━━━━━━━━━━━━━━━━━━━━┳━━━━━━━━┓\n",
       "┃\u001b[1;35m \u001b[0m\u001b[1;35m \u001b[0m\u001b[1;35m \u001b[0m┃\u001b[1;35m \u001b[0m\u001b[1;35mName   \u001b[0m\u001b[1;35m \u001b[0m┃\u001b[1;35m \u001b[0m\u001b[1;35mType                \u001b[0m\u001b[1;35m \u001b[0m┃\u001b[1;35m \u001b[0m\u001b[1;35mParams\u001b[0m\u001b[1;35m \u001b[0m┃\n",
       "┡━━━╇━━━━━━━━━╇━━━━━━━━━━━━━━━━━━━━━━╇━━━━━━━━┩\n",
       "│\u001b[2m \u001b[0m\u001b[2m0\u001b[0m\u001b[2m \u001b[0m│ model   │ InterAtomicPotential │  455 K │\n",
       "│\u001b[2m \u001b[0m\u001b[2m1\u001b[0m\u001b[2m \u001b[0m│ loss_fn │ WeightedSumLoss      │      0 │\n",
       "└───┴─────────┴──────────────────────┴────────┘\n"
      ]
     },
     "metadata": {},
     "output_type": "display_data"
    },
    {
     "data": {
      "text/html": [
       "<pre style=\"white-space:pre;overflow-x:auto;line-height:normal;font-family:Menlo,'DejaVu Sans Mono',consolas,'Courier New',monospace\"><span style=\"font-weight: bold\">Trainable params</span>: 455 K                                                                                            \n",
       "<span style=\"font-weight: bold\">Non-trainable params</span>: 0                                                                                            \n",
       "<span style=\"font-weight: bold\">Total params</span>: 455 K                                                                                                \n",
       "<span style=\"font-weight: bold\">Total estimated model params size (MB)</span>: 1                                                                          \n",
       "</pre>\n"
      ],
      "text/plain": [
       "\u001b[1mTrainable params\u001b[0m: 455 K                                                                                            \n",
       "\u001b[1mNon-trainable params\u001b[0m: 0                                                                                            \n",
       "\u001b[1mTotal params\u001b[0m: 455 K                                                                                                \n",
       "\u001b[1mTotal estimated model params size (MB)\u001b[0m: 1                                                                          \n"
      ]
     },
     "metadata": {},
     "output_type": "display_data"
    },
    {
     "data": {
      "application/vnd.jupyter.widget-view+json": {
       "model_id": "d2bd705d037344a1a4f828bc7ee41168",
       "version_major": 2,
       "version_minor": 0
      },
      "text/plain": [
       "Output()"
      ]
     },
     "metadata": {},
     "output_type": "display_data"
    },
    {
     "data": {
      "text/html": [
       "<pre style=\"white-space:pre;overflow-x:auto;line-height:normal;font-family:Menlo,'DejaVu Sans Mono',consolas,'Courier New',monospace\">/home/mjhong/workspace/devel/aml/venv/lib/python3.10/site-packages/pytorch_lightning/trainer/connectors/data_connec\n",
       "tor.py:432: PossibleUserWarning: The dataloader, val_dataloader, does not have many workers which may be a \n",
       "bottleneck. Consider increasing the value of the `num_workers` argument` (try 64 which is the number of cpus on \n",
       "this machine) in the `DataLoader` init to improve performance.\n",
       "  rank_zero_warn(\n",
       "</pre>\n"
      ],
      "text/plain": [
       "/home/mjhong/workspace/devel/aml/venv/lib/python3.10/site-packages/pytorch_lightning/trainer/connectors/data_connec\n",
       "tor.py:432: PossibleUserWarning: The dataloader, val_dataloader, does not have many workers which may be a \n",
       "bottleneck. Consider increasing the value of the `num_workers` argument` (try 64 which is the number of cpus on \n",
       "this machine) in the `DataLoader` init to improve performance.\n",
       "  rank_zero_warn(\n"
      ]
     },
     "metadata": {},
     "output_type": "display_data"
    },
    {
     "data": {
      "text/html": [
       "<pre style=\"white-space:pre;overflow-x:auto;line-height:normal;font-family:Menlo,'DejaVu Sans Mono',consolas,'Courier New',monospace\">/home/mjhong/workspace/devel/aml/venv/lib/python3.10/site-packages/pytorch_lightning/trainer/connectors/data_connec\n",
       "tor.py:432: PossibleUserWarning: The dataloader, train_dataloader, does not have many workers which may be a \n",
       "bottleneck. Consider increasing the value of the `num_workers` argument` (try 64 which is the number of cpus on \n",
       "this machine) in the `DataLoader` init to improve performance.\n",
       "  rank_zero_warn(\n",
       "</pre>\n"
      ],
      "text/plain": [
       "/home/mjhong/workspace/devel/aml/venv/lib/python3.10/site-packages/pytorch_lightning/trainer/connectors/data_connec\n",
       "tor.py:432: PossibleUserWarning: The dataloader, train_dataloader, does not have many workers which may be a \n",
       "bottleneck. Consider increasing the value of the `num_workers` argument` (try 64 which is the number of cpus on \n",
       "this machine) in the `DataLoader` init to improve performance.\n",
       "  rank_zero_warn(\n"
      ]
     },
     "metadata": {},
     "output_type": "display_data"
    }
   ],
   "source": [
    "trainer.train()"
   ]
  },
  {
   "cell_type": "code",
   "execution_count": 2,
   "metadata": {},
   "outputs": [],
   "source": [
    "# Load the trained model\n",
    "\n",
    "model = aml.load_iap(\"model/schnet_water_best.ckpt\").cuda()"
   ]
  },
  {
   "cell_type": "code",
   "execution_count": 3,
   "metadata": {},
   "outputs": [
    {
     "name": "stdout",
     "output_type": "stream",
     "text": [
      "DFT energy:  -2079.6540811187565\n",
      "Predicted energy:  -2079.65234375\n",
      "DFT forces:\n",
      " [[ 0.0989196   0.43728087 -0.25122318]\n",
      " [-0.07733442 -0.27493436  0.1498364 ]\n",
      " [-0.02168371 -0.16173958  0.10132405]]\n",
      "Predicted forces:\n",
      " [[ 0.09738747  0.43051213 -0.24776652]\n",
      " [-0.07365216 -0.27011785  0.14853127]\n",
      " [-0.02373531 -0.16039431  0.09923527]]\n"
     ]
    }
   ],
   "source": [
    "# example molecule\n",
    "import ase.io\n",
    "\n",
    "atoms = ase.io.read(\"../data/water_test.xyz\", \"10\")\n",
    "energy_dft = atoms.get_potential_energy()\n",
    "forces_dft = atoms.get_forces()\n",
    "\n",
    "output = model.forward_atoms(atoms) # predict energy and forces for atoms\n",
    "energy_pred = output[\"energy\"].item()\n",
    "forces_pred = output[\"force\"].detach().cpu().numpy()\n",
    "\n",
    "print(\"DFT energy: \", energy_dft)\n",
    "print(\"Predicted energy: \", energy_pred)\n",
    "print(\"DFT forces:\\n\", forces_dft)\n",
    "print(\"Predicted forces:\\n\", forces_pred)"
   ]
  },
  {
   "cell_type": "markdown",
   "metadata": {},
   "source": [
    "## (Optional) Compile the model to torchscript\n",
    "\n",
    "- If the model is compiled to `torchscript`, the model can be loaded without any dependencies\n",
    "- All models except \"gemnet_t\" can be compiled"
   ]
  },
  {
   "cell_type": "code",
   "execution_count": 4,
   "metadata": {},
   "outputs": [
    {
     "data": {
      "text/plain": [
       "RecursiveScriptModule(\n",
       "  original_name=SchNet\n",
       "  (species_energy_scale): RecursiveScriptModule(original_name=PerSpeciesScaleShift)\n",
       "  (representation): RecursiveScriptModule(\n",
       "    original_name=SchNetRepresentation\n",
       "    (embedding): RecursiveScriptModule(original_name=Embedding)\n",
       "    (rbf): RecursiveScriptModule(original_name=GaussianRBF)\n",
       "    (interactions): RecursiveScriptModule(\n",
       "      original_name=ModuleList\n",
       "      (0): RecursiveScriptModule(\n",
       "        original_name=SchnetInteractionBlock\n",
       "        (mlp): RecursiveScriptModule(\n",
       "          original_name=Sequential\n",
       "          (0): RecursiveScriptModule(original_name=Linear)\n",
       "          (1): RecursiveScriptModule(original_name=ShiftedSoftplus)\n",
       "          (2): RecursiveScriptModule(original_name=Linear)\n",
       "        )\n",
       "        (conv): RecursiveScriptModule(\n",
       "          original_name=CFConvJittable_44529a\n",
       "          (aggr_module): RecursiveScriptModule(original_name=SumAggregation)\n",
       "          (lin1): RecursiveScriptModule(original_name=Linear)\n",
       "          (lin2): RecursiveScriptModule(original_name=Linear)\n",
       "          (nn): RecursiveScriptModule(\n",
       "            original_name=Sequential\n",
       "            (0): RecursiveScriptModule(original_name=Linear)\n",
       "            (1): RecursiveScriptModule(original_name=ShiftedSoftplus)\n",
       "            (2): RecursiveScriptModule(original_name=Linear)\n",
       "          )\n",
       "        )\n",
       "        (act): RecursiveScriptModule(original_name=ShiftedSoftplus)\n",
       "        (lin): RecursiveScriptModule(original_name=Linear)\n",
       "      )\n",
       "      (1): RecursiveScriptModule(\n",
       "        original_name=SchnetInteractionBlock\n",
       "        (mlp): RecursiveScriptModule(\n",
       "          original_name=Sequential\n",
       "          (0): RecursiveScriptModule(original_name=Linear)\n",
       "          (1): RecursiveScriptModule(original_name=ShiftedSoftplus)\n",
       "          (2): RecursiveScriptModule(original_name=Linear)\n",
       "        )\n",
       "        (conv): RecursiveScriptModule(\n",
       "          original_name=CFConvJittable_445c44\n",
       "          (aggr_module): RecursiveScriptModule(original_name=SumAggregation)\n",
       "          (lin1): RecursiveScriptModule(original_name=Linear)\n",
       "          (lin2): RecursiveScriptModule(original_name=Linear)\n",
       "          (nn): RecursiveScriptModule(\n",
       "            original_name=Sequential\n",
       "            (0): RecursiveScriptModule(original_name=Linear)\n",
       "            (1): RecursiveScriptModule(original_name=ShiftedSoftplus)\n",
       "            (2): RecursiveScriptModule(original_name=Linear)\n",
       "          )\n",
       "        )\n",
       "        (act): RecursiveScriptModule(original_name=ShiftedSoftplus)\n",
       "        (lin): RecursiveScriptModule(original_name=Linear)\n",
       "      )\n",
       "      (2): RecursiveScriptModule(\n",
       "        original_name=SchnetInteractionBlock\n",
       "        (mlp): RecursiveScriptModule(\n",
       "          original_name=Sequential\n",
       "          (0): RecursiveScriptModule(original_name=Linear)\n",
       "          (1): RecursiveScriptModule(original_name=ShiftedSoftplus)\n",
       "          (2): RecursiveScriptModule(original_name=Linear)\n",
       "        )\n",
       "        (conv): RecursiveScriptModule(\n",
       "          original_name=CFConvJittable_446455\n",
       "          (aggr_module): RecursiveScriptModule(original_name=SumAggregation)\n",
       "          (lin1): RecursiveScriptModule(original_name=Linear)\n",
       "          (lin2): RecursiveScriptModule(original_name=Linear)\n",
       "          (nn): RecursiveScriptModule(\n",
       "            original_name=Sequential\n",
       "            (0): RecursiveScriptModule(original_name=Linear)\n",
       "            (1): RecursiveScriptModule(original_name=ShiftedSoftplus)\n",
       "            (2): RecursiveScriptModule(original_name=Linear)\n",
       "          )\n",
       "        )\n",
       "        (act): RecursiveScriptModule(original_name=ShiftedSoftplus)\n",
       "        (lin): RecursiveScriptModule(original_name=Linear)\n",
       "      )\n",
       "      (3): RecursiveScriptModule(\n",
       "        original_name=SchnetInteractionBlock\n",
       "        (mlp): RecursiveScriptModule(\n",
       "          original_name=Sequential\n",
       "          (0): RecursiveScriptModule(original_name=Linear)\n",
       "          (1): RecursiveScriptModule(original_name=ShiftedSoftplus)\n",
       "          (2): RecursiveScriptModule(original_name=Linear)\n",
       "        )\n",
       "        (conv): RecursiveScriptModule(\n",
       "          original_name=CFConvJittable_446c92\n",
       "          (aggr_module): RecursiveScriptModule(original_name=SumAggregation)\n",
       "          (lin1): RecursiveScriptModule(original_name=Linear)\n",
       "          (lin2): RecursiveScriptModule(original_name=Linear)\n",
       "          (nn): RecursiveScriptModule(\n",
       "            original_name=Sequential\n",
       "            (0): RecursiveScriptModule(original_name=Linear)\n",
       "            (1): RecursiveScriptModule(original_name=ShiftedSoftplus)\n",
       "            (2): RecursiveScriptModule(original_name=Linear)\n",
       "          )\n",
       "        )\n",
       "        (act): RecursiveScriptModule(original_name=ShiftedSoftplus)\n",
       "        (lin): RecursiveScriptModule(original_name=Linear)\n",
       "      )\n",
       "      (4): RecursiveScriptModule(\n",
       "        original_name=SchnetInteractionBlock\n",
       "        (mlp): RecursiveScriptModule(\n",
       "          original_name=Sequential\n",
       "          (0): RecursiveScriptModule(original_name=Linear)\n",
       "          (1): RecursiveScriptModule(original_name=ShiftedSoftplus)\n",
       "          (2): RecursiveScriptModule(original_name=Linear)\n",
       "        )\n",
       "        (conv): RecursiveScriptModule(\n",
       "          original_name=CFConvJittable_447497\n",
       "          (aggr_module): RecursiveScriptModule(original_name=SumAggregation)\n",
       "          (lin1): RecursiveScriptModule(original_name=Linear)\n",
       "          (lin2): RecursiveScriptModule(original_name=Linear)\n",
       "          (nn): RecursiveScriptModule(\n",
       "            original_name=Sequential\n",
       "            (0): RecursiveScriptModule(original_name=Linear)\n",
       "            (1): RecursiveScriptModule(original_name=ShiftedSoftplus)\n",
       "            (2): RecursiveScriptModule(original_name=Linear)\n",
       "          )\n",
       "        )\n",
       "        (act): RecursiveScriptModule(original_name=ShiftedSoftplus)\n",
       "        (lin): RecursiveScriptModule(original_name=Linear)\n",
       "      )\n",
       "      (5): RecursiveScriptModule(\n",
       "        original_name=SchnetInteractionBlock\n",
       "        (mlp): RecursiveScriptModule(\n",
       "          original_name=Sequential\n",
       "          (0): RecursiveScriptModule(original_name=Linear)\n",
       "          (1): RecursiveScriptModule(original_name=ShiftedSoftplus)\n",
       "          (2): RecursiveScriptModule(original_name=Linear)\n",
       "        )\n",
       "        (conv): RecursiveScriptModule(\n",
       "          original_name=CFConvJittable_447cb0\n",
       "          (aggr_module): RecursiveScriptModule(original_name=SumAggregation)\n",
       "          (lin1): RecursiveScriptModule(original_name=Linear)\n",
       "          (lin2): RecursiveScriptModule(original_name=Linear)\n",
       "          (nn): RecursiveScriptModule(\n",
       "            original_name=Sequential\n",
       "            (0): RecursiveScriptModule(original_name=Linear)\n",
       "            (1): RecursiveScriptModule(original_name=ShiftedSoftplus)\n",
       "            (2): RecursiveScriptModule(original_name=Linear)\n",
       "          )\n",
       "        )\n",
       "        (act): RecursiveScriptModule(original_name=ShiftedSoftplus)\n",
       "        (lin): RecursiveScriptModule(original_name=Linear)\n",
       "      )\n",
       "    )\n",
       "  )\n",
       "  (energy_output): RecursiveScriptModule(\n",
       "    original_name=MLP\n",
       "    (layers): RecursiveScriptModule(\n",
       "      original_name=ModuleList\n",
       "      (0): RecursiveScriptModule(original_name=Linear)\n",
       "      (1): RecursiveScriptModule(original_name=ShiftedSoftplus)\n",
       "      (2): RecursiveScriptModule(original_name=Linear)\n",
       "    )\n",
       "  )\n",
       ")"
      ]
     },
     "execution_count": 4,
     "metadata": {},
     "output_type": "execute_result"
    }
   ],
   "source": [
    "aml.compile_iap(model, \"model/schnet_water.pt\")"
   ]
  },
  {
   "cell_type": "code",
   "execution_count": 9,
   "metadata": {},
   "outputs": [],
   "source": [
    "# Load compiled model\n",
    "import torch\n",
    "model = torch.jit.load(\"model/schnet_water.pt\")\n",
    "# also load_iap works\n",
    "model = aml.load_iap(\"model/schnet_water.pt\")"
   ]
  }
 ],
 "metadata": {
  "kernelspec": {
   "display_name": "venv",
   "language": "python",
   "name": "python3"
  },
  "language_info": {
   "codemirror_mode": {
    "name": "ipython",
    "version": 3
   },
   "file_extension": ".py",
   "mimetype": "text/x-python",
   "name": "python",
   "nbconvert_exporter": "python",
   "pygments_lexer": "ipython3",
   "version": "3.10.2"
  },
  "orig_nbformat": 4
 },
 "nbformat": 4,
 "nbformat_minor": 2
}
