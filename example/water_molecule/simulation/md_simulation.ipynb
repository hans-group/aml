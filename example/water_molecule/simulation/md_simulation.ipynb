{
 "cells": [
  {
   "cell_type": "code",
   "execution_count": 2,
   "metadata": {},
   "outputs": [
    {
     "name": "stderr",
     "output_type": "stream",
     "text": [
      "/home/mjhong/workspace/devel/aml/aml/models/energy_models/mace.py:88: UserWarning: To copy construct from a tensor, it is recommended to use sourceTensor.clone().detach() or sourceTensor.clone().detach().requires_grad_(True), rather than torch.tensor(sourceTensor).\n",
      "  self.register_buffer(\"num_interactions\", torch.tensor(num_interactions, dtype=torch.long))\n",
      "/home/mjhong/workspace/devel/aml/venv/lib/python3.10/site-packages/torch/jit/_check.py:172: UserWarning: The TorchScript type system doesn't support instance-level annotations on empty non-base types in `__init__`. Instead, either 1) use a type annotation in the class body, or 2) wrap the type in `torch.jit.Attribute`.\n",
      "  warnings.warn(\"The TorchScript type system doesn't support \"\n",
      "/home/mjhong/workspace/devel/aml/aml/nn/mace/blocks.py:120: UserWarning: To copy construct from a tensor, it is recommended to use sourceTensor.clone().detach() or sourceTensor.clone().detach().requires_grad_(True), rather than torch.tensor(sourceTensor).\n",
      "  torch.tensor(atomic_energies, dtype=torch.get_default_dtype()),\n"
     ]
    },
    {
     "name": "stdout",
     "output_type": "stream",
     "text": [
      "[02:29:22] Step: 1 time [ps]: 0.0020 PE [eV/atom]: -45.9578 KE [eV/atom]: 0.0235 T [K]: 181.4193 T(target) [K]: 300.0000 \n",
      "[02:29:28] Step: 2 time [ps]: 0.0040 PE [eV/atom]: -45.9846 KE [eV/atom]: 0.0344 T [K]: 266.3545 T(target) [K]: 300.0000 \n",
      "[02:29:28] Step: 3 time [ps]: 0.0060 PE [eV/atom]: -45.9650 KE [eV/atom]: 0.0252 T [K]: 194.6960 T(target) [K]: 300.0000 \n",
      "[02:29:28] Step: 4 time [ps]: 0.0080 PE [eV/atom]: -45.9781 KE [eV/atom]: 0.0366 T [K]: 283.2229 T(target) [K]: 300.0000 \n",
      "[02:29:28] Step: 5 time [ps]: 0.0100 PE [eV/atom]: -45.9741 KE [eV/atom]: 0.0333 T [K]: 257.6328 T(target) [K]: 300.0000 \n",
      "[02:29:28] Step: 6 time [ps]: 0.0120 PE [eV/atom]: -45.9715 KE [eV/atom]: 0.0303 T [K]: 234.3429 T(target) [K]: 300.0000 \n",
      "[02:29:28] Step: 7 time [ps]: 0.0140 PE [eV/atom]: -45.9699 KE [eV/atom]: 0.0318 T [K]: 245.9974 T(target) [K]: 300.0000 \n",
      "[02:29:28] Step: 8 time [ps]: 0.0160 PE [eV/atom]: -45.9589 KE [eV/atom]: 0.0225 T [K]: 174.1391 T(target) [K]: 300.0000 \n",
      "[02:29:28] Step: 9 time [ps]: 0.0180 PE [eV/atom]: -45.9902 KE [eV/atom]: 0.0436 T [K]: 337.1135 T(target) [K]: 300.0000 \n",
      "[02:29:28] Step: 10 time [ps]: 0.0200 PE [eV/atom]: -45.9611 KE [eV/atom]: 0.0313 T [K]: 241.8290 T(target) [K]: 300.0000 \n",
      "[02:29:28] Step: 11 time [ps]: 0.0220 PE [eV/atom]: -45.9870 KE [eV/atom]: 0.0433 T [K]: 335.1722 T(target) [K]: 300.0000 \n",
      "[02:29:28] Step: 12 time [ps]: 0.0240 PE [eV/atom]: -45.9544 KE [eV/atom]: 0.0192 T [K]: 148.1568 T(target) [K]: 300.0000 \n",
      "[02:29:28] Step: 13 time [ps]: 0.0260 PE [eV/atom]: -45.9762 KE [eV/atom]: 0.0358 T [K]: 276.9696 T(target) [K]: 300.0000 \n",
      "[02:29:28] Step: 14 time [ps]: 0.0280 PE [eV/atom]: -45.9639 KE [eV/atom]: 0.0290 T [K]: 224.1497 T(target) [K]: 300.0000 \n",
      "[02:29:28] Step: 15 time [ps]: 0.0300 PE [eV/atom]: -45.9825 KE [eV/atom]: 0.0401 T [K]: 310.4588 T(target) [K]: 300.0000 \n",
      "[02:29:28] Step: 16 time [ps]: 0.0320 PE [eV/atom]: -45.9679 KE [eV/atom]: 0.0331 T [K]: 255.8386 T(target) [K]: 300.0000 \n",
      "[02:29:28] Step: 17 time [ps]: 0.0340 PE [eV/atom]: -45.9578 KE [eV/atom]: 0.0235 T [K]: 181.7789 T(target) [K]: 300.0000 \n",
      "[02:29:28] Step: 18 time [ps]: 0.0360 PE [eV/atom]: -45.9813 KE [eV/atom]: 0.0332 T [K]: 257.1129 T(target) [K]: 300.0000 \n",
      "[02:29:28] Step: 19 time [ps]: 0.0380 PE [eV/atom]: -45.9573 KE [eV/atom]: 0.0241 T [K]: 186.6955 T(target) [K]: 300.0000 \n",
      "[02:29:28] Step: 20 time [ps]: 0.0400 PE [eV/atom]: -45.9886 KE [eV/atom]: 0.0406 T [K]: 314.3491 T(target) [K]: 300.0000 \n",
      "[02:29:28] Step: 21 time [ps]: 0.0420 PE [eV/atom]: -45.9623 KE [eV/atom]: 0.0210 T [K]: 162.4252 T(target) [K]: 300.0000 \n",
      "[02:29:28] Step: 22 time [ps]: 0.0440 PE [eV/atom]: -45.9834 KE [eV/atom]: 0.0354 T [K]: 273.9848 T(target) [K]: 300.0000 \n",
      "[02:29:28] Step: 23 time [ps]: 0.0460 PE [eV/atom]: -45.9590 KE [eV/atom]: 0.0227 T [K]: 175.7026 T(target) [K]: 300.0000 \n",
      "[02:29:28] Step: 24 time [ps]: 0.0480 PE [eV/atom]: -45.9777 KE [eV/atom]: 0.0303 T [K]: 234.4696 T(target) [K]: 300.0000 \n",
      "[02:29:28] Step: 25 time [ps]: 0.0500 PE [eV/atom]: -45.9687 KE [eV/atom]: 0.0271 T [K]: 210.0292 T(target) [K]: 300.0000 \n",
      "[02:29:28] Step: 26 time [ps]: 0.0520 PE [eV/atom]: -45.9749 KE [eV/atom]: 0.0308 T [K]: 238.0224 T(target) [K]: 300.0000 \n",
      "[02:29:28] Step: 27 time [ps]: 0.0540 PE [eV/atom]: -45.9814 KE [eV/atom]: 0.0338 T [K]: 261.7024 T(target) [K]: 300.0000 \n",
      "[02:29:28] Step: 28 time [ps]: 0.0560 PE [eV/atom]: -45.9646 KE [eV/atom]: 0.0237 T [K]: 183.7095 T(target) [K]: 300.0000 \n",
      "[02:29:28] Step: 29 time [ps]: 0.0580 PE [eV/atom]: -45.9741 KE [eV/atom]: 0.0292 T [K]: 225.6080 T(target) [K]: 300.0000 \n",
      "[02:29:28] Step: 30 time [ps]: 0.0600 PE [eV/atom]: -45.9594 KE [eV/atom]: 0.0195 T [K]: 150.8344 T(target) [K]: 300.0000 \n",
      "[02:29:28] Step: 31 time [ps]: 0.0620 PE [eV/atom]: -45.9901 KE [eV/atom]: 0.0374 T [K]: 289.4674 T(target) [K]: 300.0000 \n",
      "[02:29:28] Step: 32 time [ps]: 0.0640 PE [eV/atom]: -45.9639 KE [eV/atom]: 0.0289 T [K]: 223.6912 T(target) [K]: 300.0000 \n",
      "[02:29:29] Step: 33 time [ps]: 0.0660 PE [eV/atom]: -45.9875 KE [eV/atom]: 0.0374 T [K]: 289.5232 T(target) [K]: 300.0000 \n",
      "[02:29:29] Step: 34 time [ps]: 0.0680 PE [eV/atom]: -45.9557 KE [eV/atom]: 0.0163 T [K]: 126.3158 T(target) [K]: 300.0000 \n",
      "[02:29:29] Step: 35 time [ps]: 0.0700 PE [eV/atom]: -45.9730 KE [eV/atom]: 0.0256 T [K]: 198.3415 T(target) [K]: 300.0000 \n",
      "[02:29:29] Step: 36 time [ps]: 0.0720 PE [eV/atom]: -45.9713 KE [eV/atom]: 0.0239 T [K]: 185.1012 T(target) [K]: 300.0000 \n",
      "[02:29:29] Step: 37 time [ps]: 0.0740 PE [eV/atom]: -45.9773 KE [eV/atom]: 0.0310 T [K]: 239.7566 T(target) [K]: 300.0000 \n",
      "[02:29:29] Step: 38 time [ps]: 0.0760 PE [eV/atom]: -45.9752 KE [eV/atom]: 0.0313 T [K]: 242.4926 T(target) [K]: 300.0000 \n",
      "[02:29:29] Step: 39 time [ps]: 0.0780 PE [eV/atom]: -45.9620 KE [eV/atom]: 0.0187 T [K]: 144.9614 T(target) [K]: 300.0000 \n",
      "[02:29:29] Step: 40 time [ps]: 0.0800 PE [eV/atom]: -45.9820 KE [eV/atom]: 0.0278 T [K]: 214.7932 T(target) [K]: 300.0000 \n",
      "[02:29:29] Step: 41 time [ps]: 0.0820 PE [eV/atom]: -45.9595 KE [eV/atom]: 0.0173 T [K]: 134.2038 T(target) [K]: 300.0000 \n",
      "[02:29:29] Step: 42 time [ps]: 0.0840 PE [eV/atom]: -45.9887 KE [eV/atom]: 0.0319 T [K]: 246.9272 T(target) [K]: 300.0000 \n",
      "[02:29:29] Step: 43 time [ps]: 0.0860 PE [eV/atom]: -45.9666 KE [eV/atom]: 0.0187 T [K]: 144.9561 T(target) [K]: 300.0000 \n",
      "[02:29:29] Step: 44 time [ps]: 0.0880 PE [eV/atom]: -45.9850 KE [eV/atom]: 0.0300 T [K]: 232.2303 T(target) [K]: 300.0000 \n",
      "[02:29:29] Step: 45 time [ps]: 0.0900 PE [eV/atom]: -45.9617 KE [eV/atom]: 0.0174 T [K]: 134.8457 T(target) [K]: 300.0000 \n",
      "[02:29:29] Step: 46 time [ps]: 0.0920 PE [eV/atom]: -45.9772 KE [eV/atom]: 0.0241 T [K]: 186.6915 T(target) [K]: 300.0000 \n",
      "[02:29:29] Step: 47 time [ps]: 0.0940 PE [eV/atom]: -45.9695 KE [eV/atom]: 0.0221 T [K]: 170.6104 T(target) [K]: 300.0000 \n",
      "[02:29:29] Step: 48 time [ps]: 0.0960 PE [eV/atom]: -45.9779 KE [eV/atom]: 0.0283 T [K]: 218.7105 T(target) [K]: 300.0000 \n",
      "[02:29:29] Step: 49 time [ps]: 0.0980 PE [eV/atom]: -45.9807 KE [eV/atom]: 0.0293 T [K]: 226.4463 T(target) [K]: 300.0000 \n",
      "[02:29:29] Step: 50 time [ps]: 0.1000 PE [eV/atom]: -45.9670 KE [eV/atom]: 0.0219 T [K]: 169.3127 T(target) [K]: 300.0000 \n"
     ]
    }
   ],
   "source": [
    "import ase.build\n",
    "from aml.simulations import AMLCalculator\n",
    "from aml.simulations.md import MolecularDynamics\n",
    "from aml.models import InterAtomicPotential\n",
    "\n",
    "model = InterAtomicPotential.load(\"../model/mace_lmax_3_best.ckpt\")\n",
    "calc = AMLCalculator(model, device=\"cuda\")\n",
    "water = ase.build.molecule(\"H2O\")\n",
    "water.calc = calc\n",
    "\n",
    "md = MolecularDynamics(\n",
    "    water,\n",
    "    timestep=2,\n",
    "    temperature=300.0,\n",
    "    ensemble=\"nvt_langevin\",\n",
    "    ensemble_params={\"friction\": 0.01},\n",
    "    trajectory=\"water_md.xyz\",\n",
    "    trajectory_interval=1,\n",
    "    log_file=\"water_md.log\",\n",
    "    log_interval=1,\n",
    ")\n",
    "md.run(50)"
   ]
  }
 ],
 "metadata": {
  "kernelspec": {
   "display_name": "venv",
   "language": "python",
   "name": "python3"
  },
  "language_info": {
   "codemirror_mode": {
    "name": "ipython",
    "version": 3
   },
   "file_extension": ".py",
   "mimetype": "text/x-python",
   "name": "python",
   "nbconvert_exporter": "python",
   "pygments_lexer": "ipython3",
   "version": "3.10.2"
  },
  "orig_nbformat": 4
 },
 "nbformat": 4,
 "nbformat_minor": 2
}
