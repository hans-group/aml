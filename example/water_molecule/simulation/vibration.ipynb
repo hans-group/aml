{
 "cells": [
  {
   "cell_type": "code",
   "execution_count": 1,
   "metadata": {},
   "outputs": [
    {
     "name": "stderr",
     "output_type": "stream",
     "text": [
      "/home/mjhong/workspace/devel/aml/aml/models/energy_models/mace.py:88: UserWarning: To copy construct from a tensor, it is recommended to use sourceTensor.clone().detach() or sourceTensor.clone().detach().requires_grad_(True), rather than torch.tensor(sourceTensor).\n",
      "  self.register_buffer(\"num_interactions\", torch.tensor(num_interactions, dtype=torch.long))\n",
      "/home/mjhong/workspace/devel/aml/venv/lib/python3.10/site-packages/torch/jit/_check.py:172: UserWarning: The TorchScript type system doesn't support instance-level annotations on empty non-base types in `__init__`. Instead, either 1) use a type annotation in the class body, or 2) wrap the type in `torch.jit.Attribute`.\n",
      "  warnings.warn(\"The TorchScript type system doesn't support \"\n",
      "/home/mjhong/workspace/devel/aml/aml/nn/mace/blocks.py:120: UserWarning: To copy construct from a tensor, it is recommended to use sourceTensor.clone().detach() or sourceTensor.clone().detach().requires_grad_(True), rather than torch.tensor(sourceTensor).\n",
      "  torch.tensor(atomic_energies, dtype=torch.get_default_dtype()),\n"
     ]
    },
    {
     "name": "stdout",
     "output_type": "stream",
     "text": [
      "      Step     Time          Energy         fmax\n",
      "BFGS:    0 02:30:10     -137.968033        0.7332\n",
      "BFGS:    1 02:30:10     -137.974258        0.1963\n",
      "BFGS:    2 02:30:15     -137.975296        0.1522\n",
      "BFGS:    3 02:30:15     -137.976746        0.0017\n",
      "BFGS:    4 02:30:15     -137.976761        0.0000\n"
     ]
    },
    {
     "data": {
      "text/plain": [
       "True"
      ]
     },
     "execution_count": 1,
     "metadata": {},
     "output_type": "execute_result"
    }
   ],
   "source": [
    "from ase.optimize import BFGS\n",
    "import ase.build\n",
    "from aml.simulations import AMLCalculator\n",
    "from aml.models import InterAtomicPotential\n",
    "\n",
    "model = InterAtomicPotential.load(\"../model/mace_lmax_3_best.ckpt\")\n",
    "calc = AMLCalculator(model, device=\"cuda\")\n",
    "water = ase.build.molecule(\"H2O\")\n",
    "water.calc = calc\n",
    "opt = BFGS(water)\n",
    "opt.run(fmax=0.001)"
   ]
  },
  {
   "cell_type": "code",
   "execution_count": 4,
   "metadata": {},
   "outputs": [],
   "source": [
    "from ase.vibrations import Vibrations\n",
    "\n",
    "vib = Vibrations(water, delta=0.0001, nfree=4)\n",
    "vib.run()"
   ]
  },
  {
   "cell_type": "code",
   "execution_count": 5,
   "metadata": {},
   "outputs": [
    {
     "name": "stdout",
     "output_type": "stream",
     "text": [
      "---------------------\n",
      "  #    meV     cm^-1\n",
      "---------------------\n",
      "  0    2.2i     18.0i\n",
      "  1    0.5i      3.7i\n",
      "  2    0.4i      3.4i\n",
      "  3    0.3i      2.0i\n",
      "  4    0.2i      2.0i\n",
      "  5    0.0       0.1\n",
      "  6  192.0    1548.5\n",
      "  7  449.5    3625.7\n",
      "  8  453.3    3656.1\n",
      "---------------------\n",
      "Zero-point energy: 0.547 eV\n"
     ]
    }
   ],
   "source": [
    "vib.summary()\n",
    "# Ref: https://www.chem.purdue.edu/jmol/vibs/h2o.html"
   ]
  }
 ],
 "metadata": {
  "kernelspec": {
   "display_name": "venv",
   "language": "python",
   "name": "python3"
  },
  "language_info": {
   "codemirror_mode": {
    "name": "ipython",
    "version": 3
   },
   "file_extension": ".py",
   "mimetype": "text/x-python",
   "name": "python",
   "nbconvert_exporter": "python",
   "pygments_lexer": "ipython3",
   "version": "3.10.2"
  },
  "orig_nbformat": 4
 },
 "nbformat": 4,
 "nbformat_minor": 2
}
