{
 "cells": [
  {
   "cell_type": "code",
   "execution_count": 6,
   "metadata": {},
   "outputs": [
    {
     "name": "stderr",
     "output_type": "stream",
     "text": [
      "/home/mjhong/workspace/devel/aml/aml/models/energy_models/mace.py:88: UserWarning: To copy construct from a tensor, it is recommended to use sourceTensor.clone().detach() or sourceTensor.clone().detach().requires_grad_(True), rather than torch.tensor(sourceTensor).\n",
      "  self.register_buffer(\"num_interactions\", torch.tensor(num_interactions, dtype=torch.long))\n",
      "/home/mjhong/workspace/devel/aml/venv/lib/python3.10/site-packages/torch/jit/_check.py:172: UserWarning: The TorchScript type system doesn't support instance-level annotations on empty non-base types in `__init__`. Instead, either 1) use a type annotation in the class body, or 2) wrap the type in `torch.jit.Attribute`.\n",
      "  warnings.warn(\"The TorchScript type system doesn't support \"\n",
      "/home/mjhong/workspace/devel/aml/aml/nn/mace/blocks.py:120: UserWarning: To copy construct from a tensor, it is recommended to use sourceTensor.clone().detach() or sourceTensor.clone().detach().requires_grad_(True), rather than torch.tensor(sourceTensor).\n",
      "  torch.tensor(atomic_energies, dtype=torch.get_default_dtype()),\n"
     ]
    },
    {
     "name": "stdout",
     "output_type": "stream",
     "text": [
      "Initial energy: -137.90286\n",
      "Initial forces: [[ 0.14354618  0.678147   -1.7692505 ]\n",
      " [-0.09380079 -0.4545344   1.1562984 ]\n",
      " [-0.04974539 -0.2236126   0.6129522 ]]\n",
      "Initial O-H bond length: 0.9939738183457582\n"
     ]
    }
   ],
   "source": [
    "from ase.optimize import BFGS\n",
    "import ase.build\n",
    "from aml.simulations import AMLCalculator\n",
    "from aml.models import InterAtomicPotential\n",
    "\n",
    "model = InterAtomicPotential.load(\"../model/mace_lmax_3_best.ckpt\")\n",
    "calc = AMLCalculator(model, device=\"cuda\")\n",
    "water = ase.build.molecule(\"H2O\")\n",
    "water.rattle(0.05)\n",
    "water.calc = calc\n",
    "print(\"Initial energy:\", water.get_potential_energy())\n",
    "print(\"Initial forces:\", water.get_forces())\n",
    "print(\"Initial O-H bond length:\", water.get_distance(0, 1))"
   ]
  },
  {
   "cell_type": "code",
   "execution_count": 7,
   "metadata": {},
   "outputs": [
    {
     "name": "stdout",
     "output_type": "stream",
     "text": [
      "      Step     Time          Energy         fmax\n",
      "BFGS:    0 02:26:53     -137.902863        1.9002\n",
      "BFGS:    1 02:26:53     -137.949646        0.6177\n",
      "BFGS:    2 02:26:55     -137.962006        0.5546\n",
      "BFGS:    3 02:26:55     -137.976608        0.1145\n",
      "BFGS:    4 02:26:55     -137.976746        0.0246\n",
      "BFGS:    5 02:26:55     -137.976746        0.0055\n",
      "BFGS:    6 02:26:55     -137.976761        0.0000\n"
     ]
    },
    {
     "data": {
      "text/plain": [
       "True"
      ]
     },
     "execution_count": 7,
     "metadata": {},
     "output_type": "execute_result"
    }
   ],
   "source": [
    "opt = BFGS(water)\n",
    "opt.run(fmax=0.001)"
   ]
  },
  {
   "cell_type": "code",
   "execution_count": 8,
   "metadata": {},
   "outputs": [
    {
     "name": "stdout",
     "output_type": "stream",
     "text": [
      "Final energy: -137.97676\n",
      "Final forces: [[ 1.0654330e-06  5.7220459e-06 -1.3053417e-05]\n",
      " [-6.7800283e-07 -1.1861324e-05  8.3446503e-06]\n",
      " [-3.9115548e-07  6.1392784e-06  4.6789646e-06]]\n",
      "Final O-H bond length: 0.9591898895279363\n"
     ]
    }
   ],
   "source": [
    "print(\"Final energy:\", water.get_potential_energy())\n",
    "print(\"Final forces:\", water.get_forces())\n",
    "print(\"Final O-H bond length:\", water.get_distance(0, 1)) # experiment: 0.96 Å"
   ]
  }
 ],
 "metadata": {
  "kernelspec": {
   "display_name": "venv",
   "language": "python",
   "name": "python3"
  },
  "language_info": {
   "codemirror_mode": {
    "name": "ipython",
    "version": 3
   },
   "file_extension": ".py",
   "mimetype": "text/x-python",
   "name": "python",
   "nbconvert_exporter": "python",
   "pygments_lexer": "ipython3",
   "version": "3.10.2"
  },
  "orig_nbformat": 4
 },
 "nbformat": 4,
 "nbformat_minor": 2
}
