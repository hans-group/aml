{
 "cells": [
  {
   "cell_type": "markdown",
   "id": "adc50953-1377-47d9-b7e1-b55046afb96a",
   "metadata": {},
   "source": [
    "# 4. Training the interatomic potential model\n",
    "\n",
    "- The model should be trained on reference dataset (usually ab-initio calculations) to correctly behave\n",
    "- In below example we use AIMD trajectory of ethanol molecule to learn PES of ethanol\n",
    "  - AIMD trajectory contains many conformations of molecule so that we can expect the model to learn general relationship between conformation and potential energy. \n",
    "  - Energies and forces are recalculated using CCSD(T)/cc-pVTZ theory."
   ]
  },
  {
   "cell_type": "code",
   "execution_count": 1,
   "id": "322f1f90-3fb9-4ad2-84eb-20566750334e",
   "metadata": {},
   "outputs": [
    {
     "name": "stderr",
     "output_type": "stream",
     "text": [
      "Processing training dataset: 0it [00:00, ?it/s]\n",
      "Processing training dataset: 1000it [00:00, 1803.56it/s]\n",
      "\n",
      "Processing test dataset: 1it [00:00,  1.66it/s]\u001b[A\n",
      "Processing test dataset: 359it [00:00, 688.53it/s]\u001b[A\n",
      "Processing test dataset: 1000it [00:00, 1135.34it/s][A\n"
     ]
    },
    {
     "data": {
      "text/plain": [
       "(InMemoryDataset(1000), InMemoryDataset(1000))"
      ]
     },
     "execution_count": 1,
     "metadata": {},
     "output_type": "execute_result"
    }
   ],
   "source": [
    "from ccsd_t_dataset import create_ccsd_t_dataset\n",
    "\n",
    "train_dataset, test_dataset = create_ccsd_t_dataset()\n",
    "train_dataset, test_dataset"
   ]
  },
  {
   "cell_type": "markdown",
   "id": "13439597-43b9-4853-bbb9-ddae245957f7",
   "metadata": {},
   "source": [
    "- First let's explore some statistics of dataset"
   ]
  },
  {
   "cell_type": "code",
   "execution_count": 2,
   "id": "dc04fc19-cb41-492c-a9b4-7b50ae0470c0",
   "metadata": {},
   "outputs": [
    {
     "name": "stdout",
     "output_type": "stream",
     "text": [
      "Average energy: -4209.991 eV\n",
      "Stddev of energy: 0.199\n"
     ]
    },
    {
     "data": {
      "image/png": "[encoded data removed]",
      "text/plain": [
       "<Figure size 640x480 with 1 Axes>"
      ]
     },
     "metadata": {},
     "output_type": "display_data"
    }
   ],
   "source": [
    "import matplotlib.pyplot as plt\n",
    "import torch\n",
    "import numpy as np\n",
    "\n",
    "energy_mean = train_dataset.get_statistics(\"energy\", reduce=\"mean\")\n",
    "energy_stdev = train_dataset.get_statistics(\"energy\", reduce=\"std\")\n",
    "print(f\"Average energy: {energy_mean:.3f} eV\")\n",
    "print(f\"Stddev of energy: {energy_stdev:.3f}\")\n",
    "\n",
    "all_energies = np.array([data[\"energy\"].item() for data in train_dataset])\n",
    "\n",
    "plt.figure()\n",
    "plt.xlabel(\"Energy (eV)\")\n",
    "plt.ylabel(\"Count\")\n",
    "plt.hist(all_energies, bins=50, facecolor=\"#CCCCCC\", edgecolor=\"k\", lw=0.5)\n",
    "plt.show()"
   ]
  },
  {
   "cell_type": "markdown",
   "id": "779f49db-f61b-4b12-a552-84b46bc669fb",
   "metadata": {},
   "source": [
    "- Since the energy is shifted a lot, we should do some scaling\n",
    "- Instead of directly scaling the dataset, `aml` applies scale & shift layer to `energy_model` itself:\n",
    "\n",
    "    $$\n",
    "    E_i^{(z)} = c^{(z)} (\\hat E_i) + s^{(z)}\n",
    "    $$\n",
    "    $$\n",
    "    E = \\sum E_i\n",
    "    $$\n",
    "    \n",
    "    where $c^{(z)}$ and $s^{(z)}$ are per-element scaling and shifting factors.\n",
    "\n",
    "- Shifting is usually done by the energy of isolated atoms (=atomic energies)\n",
    "  - This is equivalent to predicting negative atomization energy $-E_{at} = E - \\sum_i{E_i^\\mathrm{isolated}}$\n",
    "  - If atomic energies are not available it can be estimated using least square fit. (\"auto\")\n",
    "- Scaling can be done by stddev of energy or per-species force rms(root mean square). Usually force rms works good.\n",
    "\n",
    "- These factors can be assigned using `energy_model.initialize`"
   ]
  },
  {
   "cell_type": "code",
   "execution_count": 3,
   "id": "4bad1976-612c-47d7-b6e3-e5fc72efe69a",
   "metadata": {},
   "outputs": [
    {
     "name": "stdout",
     "output_type": "stream",
     "text": [
      "Scaling factors per element:\n",
      "tensor([1., 1., 1.])\n",
      "Shifting factors per element:\n",
      "tensor([0., 0., 0.])\n",
      "E = 15.966598510742188\n"
     ]
    }
   ],
   "source": [
    "from aml.models.energy_models import SchNet\n",
    "from aml.models import InterAtomicPotential\n",
    "\n",
    "schnet = SchNet(species=[\"H\", \"C\", \"O\"], cutoff=5.0)\n",
    "\n",
    "print(\"Scaling factors per element:\")\n",
    "print(schnet.species_energy_scale.scales.data) \n",
    "print(\"Shifting factors per element:\")\n",
    "print(schnet.species_energy_scale.shifts.data)\n",
    "\n",
    "E = schnet(train_dataset[0])\n",
    "print(\"E =\", E.item())"
   ]
  },
  {
   "cell_type": "markdown",
   "id": "7322e035-8ee2-4ccb-8096-85f5958281d6",
   "metadata": {},
   "source": [
    "- The predicted energy is very far from average energy (~ -4210 eV)"
   ]
  },
  {
   "cell_type": "code",
   "execution_count": 4,
   "id": "2411db1d-97d0-447a-aeba-c2b6de766315",
   "metadata": {},
   "outputs": [
    {
     "name": "stdout",
     "output_type": "stream",
     "text": [
      "Scaling factors per element:\n",
      "tensor([0.9321, 1.6817, 1.3943])\n",
      "Shifting factors per element:\n",
      "tensor([-616.0963, -205.3654, -102.6827])\n"
     ]
    }
   ],
   "source": [
    "schnet.initialize(\n",
    "    energy_shift_mode=\"atomic_energies\",\n",
    "    energy_scale_mode=\"force_rms\",\n",
    "    atomic_energies=\"auto\",\n",
    "    energy_scale=\"auto\",\n",
    "    trainable_scales=False, # if True, scale&shift layer is learned during training\n",
    "    dataset=train_dataset,\n",
    ")\n",
    "print(\"Scaling factors per element:\")\n",
    "print(schnet.species_energy_scale.scales.data) \n",
    "print(\"Shifting factors per element:\")\n",
    "print(schnet.species_energy_scale.shifts.data)"
   ]
  },
  {
   "cell_type": "code",
   "execution_count": 5,
   "id": "50aa8a2a-17ed-4769-a40b-5677c979460b",
   "metadata": {},
   "outputs": [
    {
     "name": "stdout",
     "output_type": "stream",
     "text": [
      "tensor([-4193.9575], grad_fn=<ScatterAddBackward0>)\n"
     ]
    }
   ],
   "source": [
    "E = schnet(train_dataset[0])\n",
    "print(E)"
   ]
  },
  {
   "cell_type": "markdown",
   "id": "3207329c-b034-4df3-983e-a9d319156fe9",
   "metadata": {},
   "source": [
    "- Now energy is close to target range."
   ]
  },
  {
   "cell_type": "markdown",
   "id": "87c12648-7c25-4061-a6d6-a7f1164bc03e",
   "metadata": {},
   "source": [
    "## How to train the IAP model\n",
    "\n",
    "- In `aml` the loss function for training the model is defined as sum of weighted individual loss per property:\n",
    "  $$\n",
    "  \\mathcal{L} = \\sum_p w_p \\mathcal{L}_p\n",
    "  $$\n",
    "  where $p$ is target property(ex. energy, force, ...) and $\\mathcal{L}_p$ is loss for property $p$.\n",
    "\n",
    "- Usually trained on energy and force\n",
    "- Loss function $\\mathcal{L}$ can be MSE loss or Huber loss(like MAE but smooth at minimum)"
   ]
  },
  {
   "cell_type": "markdown",
   "id": "458537e7-d4fd-461a-8db5-7d8c7661fb93",
   "metadata": {},
   "source": [
    "## Train model using pytorch lightning\n",
    "\n",
    "- [Pytorch Lightning](https://lightning.ai/docs/pytorch/latest/) (PL) is training library for pytorch(similar to `keras` for TF)\n",
    "- PL uses `LightningModule` to define training behavior (training step, optimizer, ...)\n",
    "- In `aml.train` there is `PotentialTrainingModule` subclassing `LightningModule` which is designed for training interatomic potential.\n",
    "- Let's dive into example\n",
    "\n",
    "### `PotentialTrainingModule`\n",
    "\n",
    "- Wraps `InterAtomicPotential` and adds common training procedure\n",
    "- Loss function, metrics, optimizer, and data scaling are defined in `PotentialTrainingModule`"
   ]
  },
  {
   "cell_type": "code",
   "execution_count": 7,
   "id": "1e92e2e9-d7af-4006-b015-e2ddcc923576",
   "metadata": {},
   "outputs": [],
   "source": [
    "import lightning as L\n",
    "from lightning.pytorch.callbacks import ModelCheckpoint, RichProgressBar\n",
    "from lightning.pytorch.loggers import TensorBoardLogger\n",
    "from aml.models import InterAtomicPotential\n",
    "from aml.train.lightning_modules import PotentialTrainingModule\n",
    "from aml.train.callbacks import ExponentialMovingAverage\n",
    "\n",
    "model = InterAtomicPotential(schnet)\n",
    "\n",
    "training_module = PotentialTrainingModule(\n",
    "    # Model\n",
    "    model=model,\n",
    "    # Loss\n",
    "    loss_keys=(\"energy\", \"force\"), # properties to incorporate in loss\n",
    "    loss_weights=(0.01, 1.0), # weights of individual loss\n",
    "    per_atom_loss_keys=(), # If any key is in this parameter the loss is calculated in per-atom basis\n",
    "    loss_type=\"mse_loss\",\n",
    "    metrics=[            # Metrics to monitor. name: (per_atom)_{property}_{mae or rmse}\n",
    "        \"energy_mae\",\n",
    "        \"force_mae\",\n",
    "        \"per_atom_energy_mae\",\n",
    "        \"energy_rmse\",\n",
    "        \"force_rmse\"\n",
    "    ],\n",
    "    # Optimizer\n",
    "    optimizer=\"adam\",\n",
    "    optimizer_config={\"lr\": 0.001},\n",
    "    lr_scheduler=\"reduce_lr_on_plateau\",\n",
    "    lr_scheduler_config={\"patience\": 10, \"factor\": 0.5},\n",
    "    # Below are initializer\n",
    "    energy_shift_mode=\"atomic_energies\",\n",
    "    energy_scale_mode=\"force_rms\",\n",
    "    atomic_energies=\"auto\",\n",
    "    energy_scale=\"auto\",\n",
    "    trainable_scales=False,\n",
    ")\n",
    "training_module.initialize(train_dataset) # Must be called before training. Initializes energy_model"
   ]
  },
  {
   "cell_type": "markdown",
   "id": "7872b55e-93f1-41c0-aeff-80c24bc26b1a",
   "metadata": {},
   "source": [
    "### Callbacks\n",
    "\n",
    "- Callback is the function which is periodically called during training\n",
    "  - On epoch end, on batch end, ...\n",
    "- See [here](https://lightning.ai/docs/pytorch/latest/api_references.html#callbacks) for list of built-in callbacks in PL\n",
    "- Below we use `ModelCheckpoint`, `RichProgressBar`, and `ExponentialMovingAverage`\n",
    "  - `ExponentialMovingAverage` is defined in `aml`, which smoothes model parameters to reduce noise in step-loss curve."
   ]
  },
  {
   "cell_type": "code",
   "execution_count": null,
   "id": "8a3cab2d-f236-47ce-a082-d63aa86edf12",
   "metadata": {},
   "outputs": [],
   "source": [
    "callbacks = [\n",
    "    ModelCheckpoint(\n",
    "        dirpath=\"checkpoints\", filename=\"best_model\", save_last=True, save_top_k=1, monitor=\"val_loss\"\n",
    "    ), # Checkpointing model periodically\n",
    "    RichProgressBar(), # Progress bar\n",
    "    ExponentialMovingAverage(0.99), # Smoothes model weights through epoch.\n",
    "]"
   ]
  },
  {
   "cell_type": "markdown",
   "id": "a28bd251-cd7d-4dd1-9024-b1be8e11df08",
   "metadata": {},
   "source": [
    "### Logger\n",
    "\n",
    "- Logger monitors metrics and log to various targets (file, tensorboard, wandb, ...)\n",
    "- Here we use tensorboard"
   ]
  },
  {
   "cell_type": "code",
   "execution_count": null,
   "id": "ff5f93fe-b5d0-4394-80bb-8d5aa3959ff1",
   "metadata": {},
   "outputs": [],
   "source": [
    "logger = TensorBoardLogger(\"tensorboard\", name=\"ethanol_ccsd_t_schnet\") # Log training using tensorboard"
   ]
  },
  {
   "cell_type": "markdown",
   "id": "33aa6759-9f2c-46ee-bfd4-a4f75b44e8c8",
   "metadata": {},
   "source": [
    "### Trainer\n",
    "\n",
    "- Trainer is the main object for model training\n",
    "- It executes the training and validation loops"
   ]
  },
  {
   "cell_type": "code",
   "execution_count": 9,
   "id": "7595ce54-5009-465b-8328-f1b7fe0932cc",
   "metadata": {},
   "outputs": [
    {
     "name": "stderr",
     "output_type": "stream",
     "text": [
      "GPU available: True (mps), used: False\n",
      "TPU available: False, using: 0 TPU cores\n",
      "IPU available: False, using: 0 IPUs\n",
      "HPU available: False, using: 0 HPUs\n",
      "/Users/mjhong/Documents/Github/aml/venv/lib/python3.10/site-packages/lightning/pytorch/trainer/setup.py:201: UserWarning: MPS available but not used. Set `accelerator` and `devices` using `Trainer(accelerator='mps', devices=1)`.\n",
      "  rank_zero_warn(\n",
      "/Users/mjhong/Documents/Github/aml/venv/lib/python3.10/site-packages/lightning/pytorch/callbacks/model_checkpoint.py:617: UserWarning: Checkpoint directory /Users/mjhong/Documents/Github/aml/tutorials/checkpoints exists and is not empty.\n",
      "  rank_zero_warn(f\"Checkpoint directory {dirpath} exists and is not empty.\")\n"
     ]
    },
    {
     "data": {
      "text/html": [
       "<pre style=\"white-space:pre;overflow-x:auto;line-height:normal;font-family:Menlo,'DejaVu Sans Mono',consolas,'Courier New',monospace\">┏━━━┳━━━━━━━━━┳━━━━━━━━━━━━━━━━━━━━━━┳━━━━━━━━┓\n",
       "┃<span style=\"color: #800080; text-decoration-color: #800080; font-weight: bold\">   </span>┃<span style=\"color: #800080; text-decoration-color: #800080; font-weight: bold\"> Name    </span>┃<span style=\"color: #800080; text-decoration-color: #800080; font-weight: bold\"> Type                 </span>┃<span style=\"color: #800080; text-decoration-color: #800080; font-weight: bold\"> Params </span>┃\n",
       "┡━━━╇━━━━━━━━━╇━━━━━━━━━━━━━━━━━━━━━━╇━━━━━━━━┩\n",
       "│<span style=\"color: #7f7f7f; text-decoration-color: #7f7f7f\"> 0 </span>│ model   │ InterAtomicPotential │  455 K │\n",
       "│<span style=\"color: #7f7f7f; text-decoration-color: #7f7f7f\"> 1 </span>│ loss_fn │ WeightedSumLoss      │      0 │\n",
       "└───┴─────────┴──────────────────────┴────────┘\n",
       "</pre>\n"
      ],
      "text/plain": [
       "┏━━━┳━━━━━━━━━┳━━━━━━━━━━━━━━━━━━━━━━┳━━━━━━━━┓\n",
       "┃\u001b[1;35m \u001b[0m\u001b[1;35m \u001b[0m\u001b[1;35m \u001b[0m┃\u001b[1;35m \u001b[0m\u001b[1;35mName   \u001b[0m\u001b[1;35m \u001b[0m┃\u001b[1;35m \u001b[0m\u001b[1;35mType                \u001b[0m\u001b[1;35m \u001b[0m┃\u001b[1;35m \u001b[0m\u001b[1;35mParams\u001b[0m\u001b[1;35m \u001b[0m┃\n",
       "┡━━━╇━━━━━━━━━╇━━━━━━━━━━━━━━━━━━━━━━╇━━━━━━━━┩\n",
       "│\u001b[2m \u001b[0m\u001b[2m0\u001b[0m\u001b[2m \u001b[0m│ model   │ InterAtomicPotential │  455 K │\n",
       "│\u001b[2m \u001b[0m\u001b[2m1\u001b[0m\u001b[2m \u001b[0m│ loss_fn │ WeightedSumLoss      │      0 │\n",
       "└───┴─────────┴──────────────────────┴────────┘\n"
      ]
     },
     "metadata": {},
     "output_type": "display_data"
    },
    {
     "data": {
      "text/html": [
       "<pre style=\"white-space:pre;overflow-x:auto;line-height:normal;font-family:Menlo,'DejaVu Sans Mono',consolas,'Courier New',monospace\"><span style=\"font-weight: bold\">Trainable params</span>: 455 K                                                                                            \n",
       "<span style=\"font-weight: bold\">Non-trainable params</span>: 6                                                                                            \n",
       "<span style=\"font-weight: bold\">Total params</span>: 455 K                                                                                                \n",
       "<span style=\"font-weight: bold\">Total estimated model params size (MB)</span>: 1                                                                          \n",
       "</pre>\n"
      ],
      "text/plain": [
       "\u001b[1mTrainable params\u001b[0m: 455 K                                                                                            \n",
       "\u001b[1mNon-trainable params\u001b[0m: 6                                                                                            \n",
       "\u001b[1mTotal params\u001b[0m: 455 K                                                                                                \n",
       "\u001b[1mTotal estimated model params size (MB)\u001b[0m: 1                                                                          \n"
      ]
     },
     "metadata": {},
     "output_type": "display_data"
    },
    {
     "data": {
      "application/vnd.jupyter.widget-view+json": {
       "model_id": "ef5fe6a9b4994f569dc9c8465cc75f68",
       "version_major": 2,
       "version_minor": 0
      },
      "text/plain": [
       "Output()"
      ]
     },
     "metadata": {},
     "output_type": "display_data"
    },
    {
     "data": {
      "text/html": [
       "<pre style=\"white-space:pre;overflow-x:auto;line-height:normal;font-family:Menlo,'DejaVu Sans Mono',consolas,'Courier New',monospace\">/Users/mjhong/Documents/Github/aml/venv/lib/python3.10/site-packages/lightning/pytorch/trainer/connectors/data_conn\n",
       "ector.py:438: PossibleUserWarning: The dataloader, val_dataloader, does not have many workers which may be a \n",
       "bottleneck. Consider increasing the value of the `num_workers` argument` (try 8 which is the number of cpus on this\n",
       "machine) in the `DataLoader` init to improve performance.\n",
       "  rank_zero_warn(\n",
       "</pre>\n"
      ],
      "text/plain": [
       "/Users/mjhong/Documents/Github/aml/venv/lib/python3.10/site-packages/lightning/pytorch/trainer/connectors/data_conn\n",
       "ector.py:438: PossibleUserWarning: The dataloader, val_dataloader, does not have many workers which may be a \n",
       "bottleneck. Consider increasing the value of the `num_workers` argument` (try 8 which is the number of cpus on this\n",
       "machine) in the `DataLoader` init to improve performance.\n",
       "  rank_zero_warn(\n"
      ]
     },
     "metadata": {},
     "output_type": "display_data"
    },
    {
     "data": {
      "text/html": [
       "<pre style=\"white-space:pre;overflow-x:auto;line-height:normal;font-family:Menlo,'DejaVu Sans Mono',consolas,'Courier New',monospace\">/Users/mjhong/Documents/Github/aml/venv/lib/python3.10/site-packages/lightning/pytorch/trainer/connectors/data_conn\n",
       "ector.py:438: PossibleUserWarning: The dataloader, train_dataloader, does not have many workers which may be a \n",
       "bottleneck. Consider increasing the value of the `num_workers` argument` (try 8 which is the number of cpus on this\n",
       "machine) in the `DataLoader` init to improve performance.\n",
       "  rank_zero_warn(\n",
       "</pre>\n"
      ],
      "text/plain": [
       "/Users/mjhong/Documents/Github/aml/venv/lib/python3.10/site-packages/lightning/pytorch/trainer/connectors/data_conn\n",
       "ector.py:438: PossibleUserWarning: The dataloader, train_dataloader, does not have many workers which may be a \n",
       "bottleneck. Consider increasing the value of the `num_workers` argument` (try 8 which is the number of cpus on this\n",
       "machine) in the `DataLoader` init to improve performance.\n",
       "  rank_zero_warn(\n"
      ]
     },
     "metadata": {},
     "output_type": "display_data"
    },
    {
     "name": "stderr",
     "output_type": "stream",
     "text": [
      "`Trainer.fit` stopped: `max_epochs=10` reached.\n"
     ]
    },
    {
     "data": {
      "text/html": [
       "<pre style=\"white-space:pre;overflow-x:auto;line-height:normal;font-family:Menlo,'DejaVu Sans Mono',consolas,'Courier New',monospace\"></pre>\n"
      ],
      "text/plain": []
     },
     "metadata": {},
     "output_type": "display_data"
    },
    {
     "data": {
      "text/html": [
       "<pre style=\"white-space:pre;overflow-x:auto;line-height:normal;font-family:Menlo,'DejaVu Sans Mono',consolas,'Courier New',monospace\">\n",
       "</pre>\n"
      ],
      "text/plain": [
       "\n"
      ]
     },
     "metadata": {},
     "output_type": "display_data"
    }
   ],
   "source": [
    "from torch_geometric.loader import DataLoader\n",
    "import torch\n",
    "\n",
    "device = \"cuda\" if torch.cuda.is_available() else \"cpu\"\n",
    "\n",
    "train_set, val_set = train_dataset.split(0.95)\n",
    "train_loader = DataLoader(train_set, batch_size=16, shuffle=True)\n",
    "val_loader = DataLoader(val_set, batch_size=16, shuffle=False)\n",
    "\n",
    "trainer = L.Trainer(\n",
    "    accelerator=device,  # Device to use\n",
    "    devices=1,  # Number of devices\n",
    "    max_epochs=10, # Maximum epochs\n",
    "    gradient_clip_val=10.0,  # Threshold of gradient clipping \n",
    "    callbacks=callbacks,\n",
    "    logger=logger,\n",
    ")\n",
    "trainer.fit(training_module, train_loader, val_loader)"
   ]
  },
  {
   "cell_type": "markdown",
   "id": "186168ef-0be0-4ed1-b170-3eff87ba5c27",
   "metadata": {},
   "source": [
    "- Meanwhile you can monitor the progress using tensorboard:\n",
    "  `tensorboard --logdir tensorboard`\n",
    "- After training is done, the best model can be loaded"
   ]
  },
  {
   "cell_type": "code",
   "execution_count": 10,
   "id": "6e69f6e0-7837-47b2-9fcf-b4ef766f38e3",
   "metadata": {},
   "outputs": [],
   "source": [
    "from aml.simulations import AMLCalculator\n",
    "\n",
    "trained_model = InterAtomicPotential.load(\"checkpoints/best_model.ckpt\")\n",
    "calc = AMLCalculator(trained_model, device=device)"
   ]
  },
  {
   "cell_type": "code",
   "execution_count": 11,
   "id": "b7095077-06eb-4e53-98be-a7a9e20507b4",
   "metadata": {},
   "outputs": [],
   "source": [
    "import numpy as np\n",
    "import ase.build\n",
    "\n",
    "def make_ethanol_ch3_rotation_traj():\n",
    "    atoms = ase.build.molecule(\"CH3CH2OH\")\n",
    "    images = []\n",
    "    angles = np.linspace(0, 360, 500)\n",
    "    for angle in angles:\n",
    "        new = atoms.copy()\n",
    "        new.rotate_dihedral(4, 1, 0, 7, angle, indices=[6, 0, 7, 8])\n",
    "        images.append(new)\n",
    "    return angles, images\n",
    "\n",
    "angles, images = make_ethanol_ch3_rotation_traj()\n",
    "energies = np.array([calc.get_potential_energy(atoms) for atoms in images])"
   ]
  },
  {
   "cell_type": "code",
   "execution_count": 12,
   "id": "a4717779-e201-421d-9209-1f68e99766a1",
   "metadata": {},
   "outputs": [
    {
     "data": {
      "image/png": "[encoded data removed]",
      "text/plain": [
       "<Figure size 640x480 with 1 Axes>"
      ]
     },
     "metadata": {},
     "output_type": "display_data"
    }
   ],
   "source": [
    "import matplotlib.pyplot as plt\n",
    "\n",
    "plt.figure()\n",
    "plt.xlabel(\"CH$_3$ torsional angle ($^\\circ$)\")\n",
    "plt.ylabel(\"Energy (eV)\")\n",
    "plt.plot(angles, energies)\n",
    "plt.show()"
   ]
  },
  {
   "cell_type": "markdown",
   "id": "a699449c-e0cf-4973-bf0d-bf28348069b9",
   "metadata": {},
   "source": [
    "- Now PES looks pretty good.\n",
    "\n",
    "### Training using `PotentialTrainer`\n",
    "\n",
    "- The model can be trained using `config.yaml` and `PotentialTrainer`.\n",
    "- See `examples` for detail"
   ]
  },
  {
   "cell_type": "code",
   "execution_count": null,
   "id": "8c03a79c-8559-4d3f-a697-15f89603e829",
   "metadata": {},
   "outputs": [],
   "source": []
  }
 ],
 "metadata": {
  "kernelspec": {
   "display_name": "Python 3 (ipykernel)",
   "language": "python",
   "name": "python3"
  },
  "language_info": {
   "codemirror_mode": {
    "name": "ipython",
    "version": 3
   },
   "file_extension": ".py",
   "mimetype": "text/x-python",
   "name": "python",
   "nbconvert_exporter": "python",
   "pygments_lexer": "ipython3",
   "version": "3.10.12"
  }
 },
 "nbformat": 4,
 "nbformat_minor": 5
}
