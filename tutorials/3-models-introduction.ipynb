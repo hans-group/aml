{
 "cells": [
  {
   "cell_type": "markdown",
   "id": "ec358bdb-e775-4ce8-85f5-f7947f2a7b59",
   "metadata": {},
   "source": [
    "# 3. Introduction to Models\n",
    "\n",
    "- In AML, \"Model\" is a mathematical function that takes atomistic structure as input and calculates the property of intereset as output.\n",
    "  $$\n",
    "  P = f(z, \\mathbf{R}) \\quad (z \\in \\mathbb{Z}^N, \\mathbf{R} \\in \\mathbb{R}^{N\\times3})\n",
    "  $$\n",
    "  where $N$ is number of atoms, $z$ is atomic numbers in the structure, and $\\mathbf{R}$ is cartesian coordinates of atoms.\n",
    "- For example, the model is interatomic potential model when $P$ is the potential energy of given $z$ and $\\mathbf{R}$.\n",
    "\n",
    "\n",
    "## 3.1 Implemented models in `aml`\n",
    "\n",
    "- Currently only interatomic potential is implemented (as `InterAtomicPotential`)\n",
    "- `InterAtomicPotential` requires `energy_model` as input, which computes potential energy corresponding to input `AtomsGraph`.\n",
    "\n",
    "### 3.1.1 Enegy model tutorial\n",
    "\n",
    "- Has a base class `BaseEnergyModel`\n",
    "- All energy models require `species` and `cutoff`.\n",
    "  - Usually `cutoff=5.0` is fine, and it is default value\n",
    "- Below the (untrained) `SchNet` model is demonstrated to compute potential energy of ethanol"
   ]
  },
  {
   "cell_type": "code",
   "execution_count": 1,
   "id": "b3d5eef8-af89-4117-981a-c929ae13bb11",
   "metadata": {},
   "outputs": [
    {
     "name": "stdout",
     "output_type": "stream",
     "text": [
      "E = -4.316 eV\n"
     ]
    }
   ],
   "source": [
    "import ase.build\n",
    "from aml.data import AtomsGraph\n",
    "from aml.models.energy_models import SchNet\n",
    "\n",
    "atoms = ase.build.molecule(\"CH3CH2OH\")  # ethanol\n",
    "data = AtomsGraph.from_ase(atoms, 5.0)  # Graph with neighborlist cutoff=5.0\n",
    "energy_model = SchNet(species=[\"C\", \"H\", \"O\"], cutoff=5.0)\n",
    "\n",
    "predicted_energy = energy_model(data) # Compute energy\n",
    "print(f\"E = {predicted_energy.item():.3f} eV\")"
   ]
  },
  {
   "cell_type": "markdown",
   "id": "5e888a3c-58a6-4aed-8515-9f82c6db800a",
   "metadata": {},
   "source": [
    "- Energy model is `Configurable`, so config dict can be extracted"
   ]
  },
  {
   "cell_type": "code",
   "execution_count": 2,
   "id": "b548c413-da51-4f33-8cdb-52164db6f36d",
   "metadata": {},
   "outputs": [
    {
     "data": {
      "text/plain": [
       "{'@name': 'schnet',\n",
       " 'species': ['C', 'H', 'O'],\n",
       " 'cutoff': 5.0,\n",
       " 'hidden_channels': 128,\n",
       " 'n_filters': 128,\n",
       " 'n_interactions': 6,\n",
       " 'rbf_type': 'gaussian',\n",
       " 'n_rbf': 50,\n",
       " 'trainable_rbf': False}"
      ]
     },
     "execution_count": 2,
     "metadata": {},
     "output_type": "execute_result"
    }
   ],
   "source": [
    "config = energy_model.get_config()\n",
    "config"
   ]
  },
  {
   "cell_type": "code",
   "execution_count": 3,
   "id": "b5ad04fe-2730-4440-bf24-ec6fe79cfbd6",
   "metadata": {},
   "outputs": [
    {
     "data": {
      "text/plain": [
       "'schnet'"
      ]
     },
     "execution_count": 3,
     "metadata": {},
     "output_type": "execute_result"
    }
   ],
   "source": [
    "from aml.models.energy_models import BaseEnergyModel\n",
    "\n",
    "energy_model = BaseEnergyModel.from_config(config)\n",
    "energy_model.name"
   ]
  },
  {
   "cell_type": "markdown",
   "id": "2fa1ffd3-af00-4e81-80ac-9dd9d574e821",
   "metadata": {},
   "source": [
    "### 3.1.2 `InterAtomicPotential` tutorial\n",
    "\n",
    "- `InterAtomicPotential` takes `energy_model`\n",
    "- It computes potential energy and the energy-derived properties (force, stress, hessian)\n",
    "- Calculation of force, stress, hessian are optional. Only force calculation is enabled by default\n",
    "  - Stress cannot be calculated for non-periodic structures \n",
    "- returns the dictionary of outputs"
   ]
  },
  {
   "cell_type": "code",
   "execution_count": 4,
   "id": "44405c88-5531-4982-bba4-0318e16e0ddd",
   "metadata": {},
   "outputs": [
    {
     "name": "stdout",
     "output_type": "stream",
     "text": [
      "{'energy': tensor([-4.4306], grad_fn=<ScatterAddBackward0>), 'force': tensor([[-6.8154e-02,  5.1513e-04, -2.2352e-07],\n",
      "        [ 3.4403e-01,  2.2513e-01, -1.6391e-07],\n",
      "        [-7.6778e-01, -2.7903e-01, -6.3330e-08],\n",
      "        [ 3.6710e-02,  9.8374e-01, -1.4901e-07],\n",
      "        [-4.0971e-01, -1.7996e-01, -8.5739e-01],\n",
      "        [-4.0971e-01, -1.7996e-01,  8.5739e-01],\n",
      "        [-1.0081e+00, -8.6414e-01, -4.4703e-08],\n",
      "        [ 1.1414e+00,  1.4685e-01, -7.2049e-01],\n",
      "        [ 1.1414e+00,  1.4685e-01,  7.2049e-01]], grad_fn=<NegBackward0>)}\n"
     ]
    }
   ],
   "source": [
    "from aml.models import InterAtomicPotential\n",
    "\n",
    "model = InterAtomicPotential(\n",
    "    energy_model,\n",
    "    compute_force=True,  # True by default\n",
    ")\n",
    "output = model(data)\n",
    "print(output)"
   ]
  },
  {
   "cell_type": "code",
   "execution_count": 5,
   "id": "60590d42-3e38-48bd-8da8-54ab98e24de7",
   "metadata": {},
   "outputs": [
    {
     "data": {
      "text/plain": [
       "torch.Size([27, 27])"
      ]
     },
     "execution_count": 5,
     "metadata": {},
     "output_type": "execute_result"
    }
   ],
   "source": [
    "# Hessian\n",
    "model.compute_hessian = True\n",
    "output = model(data)\n",
    "output[\"hessian\"].shape"
   ]
  },
  {
   "cell_type": "markdown",
   "id": "2af6a708-1a03-4c2d-aeb8-1f97ffd62607",
   "metadata": {},
   "source": [
    "### 3.1.3 Interface `InterAtomicPotential` of to `ase`\n",
    "\n",
    "- `aml.simulations.AMLCalculator` is interface to `ase` library\n",
    "- `InterAtomicPotential` can be used to calculate on `Atoms` using `AMLCalculator`"
   ]
  },
  {
   "cell_type": "code",
   "execution_count": 6,
   "id": "a45f2ea9-ec45-46a4-a5a0-cdfecd145159",
   "metadata": {},
   "outputs": [
    {
     "data": {
      "text/plain": [
       "(-4.4306488037109375,\n",
       " array([[-6.8154104e-02,  5.1513314e-04, -2.2351742e-07],\n",
       "        [ 3.4402820e-01,  2.2513062e-01, -1.6391277e-07],\n",
       "        [-7.6778185e-01, -2.7903169e-01, -6.3329935e-08],\n",
       "        [ 3.6710083e-02,  9.8373944e-01, -1.4901161e-07],\n",
       "        [-4.0970734e-01, -1.7995551e-01, -8.5739279e-01],\n",
       "        [-4.0970770e-01, -1.7995591e-01,  8.5739326e-01],\n",
       "        [-1.0081095e+00, -8.6414444e-01, -4.4703484e-08],\n",
       "        [ 1.1413611e+00,  1.4685114e-01, -7.2048789e-01],\n",
       "        [ 1.1413612e+00,  1.4685126e-01,  7.2048813e-01]], dtype=float32))"
      ]
     },
     "execution_count": 6,
     "metadata": {},
     "output_type": "execute_result"
    }
   ],
   "source": [
    "import torch\n",
    "from aml.simulations import AMLCalculator\n",
    "\n",
    "device = \"cuda\" if torch.cuda.is_available() else \"cpu\"\n",
    "\n",
    "calc = AMLCalculator(model=model, device=device)\n",
    "atoms.calc = calc\n",
    "\n",
    "E = atoms.get_potential_energy()\n",
    "F = atoms.get_forces()\n",
    "E, F"
   ]
  },
  {
   "cell_type": "markdown",
   "id": "1cf30e3c-8e59-4d1e-af21-430065c754b7",
   "metadata": {},
   "source": [
    "- Of course the model is not correct since it is not trained\n",
    "- Consider the potential energy surface of -CH<sub>3</sub> torsion in ethanol:"
   ]
  },
  {
   "cell_type": "code",
   "execution_count": 7,
   "id": "1b0618a6-0af5-4331-b1fb-8e7cedbe03d8",
   "metadata": {},
   "outputs": [],
   "source": [
    "import numpy as np\n",
    "\n",
    "def make_ethanol_ch3_rotation_traj():\n",
    "    atoms = ase.build.molecule(\"CH3CH2OH\")\n",
    "    images = []\n",
    "    angles = np.linspace(0, 360, 500)\n",
    "    for angle in angles:\n",
    "        new = atoms.copy()\n",
    "        new.rotate_dihedral(4, 1, 0, 7, angle, indices=[6, 0, 7, 8])\n",
    "        images.append(new)\n",
    "    return angles, images\n",
    "\n",
    "angles, images = make_ethanol_ch3_rotation_traj()\n",
    "energies = np.array([calc.get_potential_energy(atoms) for atoms in images])"
   ]
  },
  {
   "cell_type": "code",
   "execution_count": 8,
   "id": "11ed6261-5b44-4782-bb67-4436bcf3b190",
   "metadata": {},
   "outputs": [
    {
     "data": {
      "image/png": "[encoded data removed]",
      "text/plain": [
       "<Figure size 640x480 with 1 Axes>"
      ]
     },
     "metadata": {},
     "output_type": "display_data"
    }
   ],
   "source": [
    "import matplotlib.pyplot as plt\n",
    "\n",
    "plt.figure()\n",
    "plt.xlabel(\"CH$_3$ torsional angle ($^\\circ$)\")\n",
    "plt.ylabel(\"Energy (eV)\")\n",
    "plt.plot(angles, energies)\n",
    "plt.show()"
   ]
  },
  {
   "cell_type": "markdown",
   "id": "d7b1194c-eae2-459e-85b6-07b67cd3c363",
   "metadata": {},
   "source": [
    "It is clear that the predicted PES is totally wrong!"
   ]
  }
 ],
 "metadata": {
  "kernelspec": {
   "display_name": "Python 3 (ipykernel)",
   "language": "python",
   "name": "python3"
  },
  "language_info": {
   "codemirror_mode": {
    "name": "ipython",
    "version": 3
   },
   "file_extension": ".py",
   "mimetype": "text/x-python",
   "name": "python",
   "nbconvert_exporter": "python",
   "pygments_lexer": "ipython3",
   "version": "3.10.12"
  }
 },
 "nbformat": 4,
 "nbformat_minor": 5
}
