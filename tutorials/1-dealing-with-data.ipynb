{
 "cells": [
  {
   "cell_type": "markdown",
   "metadata": {},
   "source": [
    "# 1. Dealing with atomistic data\n",
    "\n",
    "In `aml`, each data point is considered as graph, which has species(`elems`) and atomic positions(`pos`) as default node attributes. The class `AtomsGraph` is container for atomistic graph data, which is basically `torch_geometric.data.Data` with some additional features. The structure with periodic boundary condition(PBC) is also supported when unit cell matrix(`cell`) is given."
   ]
  },
  {
   "cell_type": "code",
   "execution_count": 1,
   "metadata": {},
   "outputs": [
    {
     "name": "stdout",
     "output_type": "stream",
     "text": [
      "AtomsGraph(elems=[3], pos=[3, 3], n_atoms=[1], cell=[1, 3, 3])\n"
     ]
    }
   ],
   "source": [
    "import torch\n",
    "from aml.data import AtomsGraph\n",
    "\n",
    "# Water molecule\n",
    "pos = torch.tensor(\n",
    "    [[0.00,  0.00,  0.12],\n",
    "     [0.00,  0.76, -0.48],\n",
    "     [0.00, -0.76, -0.48]]\n",
    ")\n",
    "elems = torch.tensor([8, 1, 1], dtype=torch.long)\n",
    "data = AtomsGraph(elems=elems, pos=pos)\n",
    "print(data)"
   ]
  },
  {
   "cell_type": "code",
   "execution_count": 2,
   "metadata": {},
   "outputs": [
    {
     "name": "stdout",
     "output_type": "stream",
     "text": [
      "AtomsGraph(elems=[4], pos=[4, 3], cell=[1, 3, 3], n_atoms=[1])\n"
     ]
    }
   ],
   "source": [
    "# Pt FCC crystal\n",
    "pos = torch.tensor(\n",
    "    [[0.00, 0.00, 0.00],\n",
    "     [1.96, 1.96, 0.00],\n",
    "     [1.96, 0.00, 1.96],\n",
    "     [0.00, 1.96, 1.96]]\n",
    ")\n",
    "elems = torch.tensor([78, 78, 78, 78], dtype=torch.long)\n",
    "cell = torch.tensor(\n",
    "    [[3.92, 0.00, 0.00],\n",
    "    [0.00, 3.92, 0.00],\n",
    "    [0.00, 0.00, 3.92]]\n",
    ")\n",
    "data = AtomsGraph(elems=elems, pos=pos, cell=cell)\n",
    "print(data)\n",
    "# Convert to ASE Atoms object\n",
    "atoms = data.to_ase()"
   ]
  },
  {
   "cell_type": "markdown",
   "metadata": {},
   "source": [
    "Any other properties (ex. energy) can be added to the `data` object."
   ]
  },
  {
   "cell_type": "code",
   "execution_count": 3,
   "metadata": {},
   "outputs": [
    {
     "name": "stdout",
     "output_type": "stream",
     "text": [
      "AtomsGraph(elems=[4], pos=[4, 3], cell=[1, 3, 3], energy=[1], n_atoms=[1])\n"
     ]
    }
   ],
   "source": [
    "data = AtomsGraph(elems=elems, pos=pos, cell=cell, energy=torch.tensor(-42.0))\n",
    "print(data)"
   ]
  },
  {
   "cell_type": "markdown",
   "metadata": {},
   "source": [
    "The edges can be assigned into `edge_index`, which is adjacency matrix with sparse format. Typical way of constructing the edges is to consider neighbor list (within cutoff) to be connected with center atoms. This can be done with `AtomsGraph.build_neighborlist`."
   ]
  },
  {
   "cell_type": "code",
   "execution_count": 4,
   "metadata": {},
   "outputs": [
    {
     "name": "stdout",
     "output_type": "stream",
     "text": [
      "Center atom indices: tensor([0, 0, 0, 0, 0, 0, 0, 0, 0, 0, 0, 0, 0, 0, 0, 0, 0, 0, 0, 0, 0, 0, 0, 0,\n",
      "        0, 0, 0, 0, 0, 0, 0, 0, 0, 0, 0, 0, 0, 0, 0, 0, 0, 0, 1, 1, 1, 1, 1, 1,\n",
      "        1, 1, 1, 1, 1, 1, 1, 1, 1, 1, 1, 1, 1, 1, 1, 1, 1, 1, 1, 1, 1, 1, 1, 1,\n",
      "        1, 1, 1, 1, 1, 1, 1, 1, 1, 1, 1, 1, 2, 2, 2, 2, 2, 2, 2, 2, 2, 2, 2, 2,\n",
      "        2, 2, 2, 2, 2, 2, 2, 2, 2, 2, 2, 2, 2, 2, 2, 2, 2, 2, 2, 2, 2, 2, 2, 2,\n",
      "        2, 2, 2, 2, 2, 2, 3, 3, 3, 3, 3, 3, 3, 3, 3, 3, 3, 3, 3, 3, 3, 3, 3, 3,\n",
      "        3, 3, 3, 3, 3, 3, 3, 3, 3, 3, 3, 3, 3, 3, 3, 3, 3, 3, 3, 3, 3, 3, 3, 3])\n",
      "Neighbor atom indices: tensor([1, 1, 3, 1, 2, 3, 1, 2, 3, 1, 0, 1, 3, 3, 2, 1, 0, 3, 2, 1, 2, 1, 0, 3,\n",
      "        0, 1, 2, 3, 2, 1, 3, 3, 2, 3, 0, 3, 2, 1, 2, 0, 2, 2, 0, 2, 1, 2, 2, 3,\n",
      "        1, 3, 3, 1, 0, 2, 0, 2, 1, 0, 0, 0, 0, 0, 2, 3, 3, 1, 3, 3, 2, 3, 2, 0,\n",
      "        3, 2, 0, 0, 2, 3, 3, 3, 2, 1, 0, 2, 3, 1, 0, 3, 1, 0, 1, 0, 0, 2, 1, 1,\n",
      "        3, 3, 1, 0, 0, 3, 2, 1, 0, 2, 0, 3, 3, 3, 0, 1, 3, 1, 0, 3, 2, 1, 0, 2,\n",
      "        1, 1, 3, 3, 0, 2, 1, 2, 0, 1, 2, 3, 3, 0, 2, 0, 2, 0, 3, 2, 1, 2, 2, 0,\n",
      "        1, 2, 3, 0, 1, 1, 3, 0, 1, 2, 1, 2, 0, 0, 1, 1, 2, 0, 1, 1, 3, 0, 2, 0])\n",
      "Offset vectors: tensor([[-1., -1.,  1.],\n",
      "        [ 0., -1.,  1.],\n",
      "        [ 1., -1., -1.],\n",
      "        [-1., -1., -1.],\n",
      "        [-1., -1., -1.],\n",
      "        [-1., -1., -1.],\n",
      "        [ 0., -1., -1.],\n",
      "        [ 0., -1., -1.],\n",
      "        [ 0., -1., -1.],\n",
      "        [ 0.,  0.,  1.],\n",
      "        [ 0.,  0.,  1.],\n",
      "        [-1.,  0.,  1.],\n",
      "        [ 1., -1.,  0.],\n",
      "        [ 0., -1.,  0.],\n",
      "        [ 0., -1.,  0.],\n",
      "        [ 0., -1.,  0.],\n",
      "        [ 0., -1.,  0.],\n",
      "        [-1., -1.,  0.],\n",
      "        [-1., -1.,  0.],\n",
      "        [-1., -1.,  0.],\n",
      "        [-1.,  0.,  0.],\n",
      "        [-1.,  0.,  0.],\n",
      "        [-1.,  0.,  0.],\n",
      "        [-1.,  0.,  0.],\n",
      "        [ 0.,  0., -1.],\n",
      "        [ 0.,  0., -1.],\n",
      "        [ 0.,  0., -1.],\n",
      "        [ 0.,  0., -1.],\n",
      "        [-1.,  0., -1.],\n",
      "        [-1.,  0., -1.],\n",
      "        [-1.,  0., -1.],\n",
      "        [ 1.,  0., -1.],\n",
      "        [-1.,  1., -1.],\n",
      "        [ 1.,  0.,  0.],\n",
      "        [ 1.,  0.,  0.],\n",
      "        [ 0.,  0.,  0.],\n",
      "        [ 0.,  0.,  0.],\n",
      "        [ 0.,  0.,  0.],\n",
      "        [ 0.,  1.,  0.],\n",
      "        [ 0.,  1.,  0.],\n",
      "        [ 0.,  1., -1.],\n",
      "        [-1.,  1.,  0.],\n",
      "        [ 0.,  1.,  0.],\n",
      "        [ 0.,  1.,  0.],\n",
      "        [ 0.,  1.,  0.],\n",
      "        [-1.,  1.,  0.],\n",
      "        [ 1.,  0.,  0.],\n",
      "        [ 1., -1.,  0.],\n",
      "        [ 0., -1.,  0.],\n",
      "        [ 0., -1.,  0.],\n",
      "        [ 1.,  0.,  0.],\n",
      "        [ 1.,  0.,  0.],\n",
      "        [ 1.,  0.,  0.],\n",
      "        [ 0.,  0.,  0.],\n",
      "        [ 0.,  0.,  0.],\n",
      "        [-1.,  0.,  0.],\n",
      "        [-1.,  0.,  0.],\n",
      "        [ 0.,  0.,  1.],\n",
      "        [ 1.,  0.,  1.],\n",
      "        [ 1.,  1.,  1.],\n",
      "        [ 0.,  1.,  1.],\n",
      "        [ 1.,  1.,  0.],\n",
      "        [ 1.,  1.,  0.],\n",
      "        [ 1.,  1.,  0.],\n",
      "        [ 0.,  1.,  0.],\n",
      "        [ 0.,  0.,  1.],\n",
      "        [ 0.,  0.,  0.],\n",
      "        [ 1.,  0., -1.],\n",
      "        [ 1.,  0., -1.],\n",
      "        [ 1.,  1., -1.],\n",
      "        [ 1.,  1., -1.],\n",
      "        [ 1.,  1., -1.],\n",
      "        [ 0.,  1., -1.],\n",
      "        [-1.,  1., -1.],\n",
      "        [ 1.,  0., -1.],\n",
      "        [ 0.,  1., -1.],\n",
      "        [ 0.,  1., -1.],\n",
      "        [ 1., -1., -1.],\n",
      "        [ 0., -1., -1.],\n",
      "        [ 0.,  0., -1.],\n",
      "        [ 0.,  0., -1.],\n",
      "        [ 0.,  0., -1.],\n",
      "        [ 0.,  0., -1.],\n",
      "        [-1.,  0., -1.],\n",
      "        [ 1., -1.,  1.],\n",
      "        [ 1., -1.,  1.],\n",
      "        [ 1., -1.,  1.],\n",
      "        [ 0., -1.,  1.],\n",
      "        [ 0., -1.,  1.],\n",
      "        [ 0., -1.,  1.],\n",
      "        [-1., -1.,  1.],\n",
      "        [ 0.,  1.,  1.],\n",
      "        [ 1.,  1.,  1.],\n",
      "        [ 0.,  0.,  1.],\n",
      "        [ 0.,  0.,  1.],\n",
      "        [-1.,  0.,  1.],\n",
      "        [ 0.,  0.,  1.],\n",
      "        [ 1.,  0.,  1.],\n",
      "        [ 1.,  0.,  1.],\n",
      "        [ 1.,  0.,  1.],\n",
      "        [ 0.,  0.,  1.],\n",
      "        [ 1.,  0.,  0.],\n",
      "        [ 1.,  0.,  0.],\n",
      "        [ 1.,  0.,  0.],\n",
      "        [ 1.,  0.,  0.],\n",
      "        [ 0.,  1.,  0.],\n",
      "        [ 0.,  1.,  0.],\n",
      "        [ 1.,  0., -1.],\n",
      "        [ 0.,  0., -1.],\n",
      "        [ 0.,  0.,  0.],\n",
      "        [ 0.,  0.,  0.],\n",
      "        [-1., -1.,  0.],\n",
      "        [ 1., -1.,  0.],\n",
      "        [ 1., -1.,  0.],\n",
      "        [ 1., -1.,  0.],\n",
      "        [ 0., -1.,  0.],\n",
      "        [ 0., -1.,  0.],\n",
      "        [ 0., -1.,  0.],\n",
      "        [ 0., -1.,  0.],\n",
      "        [-1.,  0.,  0.],\n",
      "        [-1.,  0.,  0.],\n",
      "        [ 0.,  0.,  0.],\n",
      "        [ 0., -1., -1.],\n",
      "        [ 1., -1., -1.],\n",
      "        [ 1.,  1.,  0.],\n",
      "        [ 0.,  0., -1.],\n",
      "        [-1.,  1.,  0.],\n",
      "        [-1.,  1.,  0.],\n",
      "        [ 0.,  1.,  0.],\n",
      "        [ 0.,  1.,  0.],\n",
      "        [ 0.,  1.,  0.],\n",
      "        [ 0.,  1.,  0.],\n",
      "        [ 0.,  0., -1.],\n",
      "        [-1.,  1.,  0.],\n",
      "        [ 0.,  0., -1.],\n",
      "        [ 1.,  1.,  0.],\n",
      "        [-1.,  0., -1.],\n",
      "        [ 1.,  0.,  0.],\n",
      "        [ 1.,  0.,  0.],\n",
      "        [ 0.,  0.,  0.],\n",
      "        [-1., -1.,  0.],\n",
      "        [ 0.,  1., -1.],\n",
      "        [-1.,  1., -1.],\n",
      "        [-1.,  0.,  0.],\n",
      "        [-1.,  0.,  0.],\n",
      "        [-1.,  0.,  0.],\n",
      "        [-1.,  0.,  0.],\n",
      "        [ 0.,  0.,  0.],\n",
      "        [ 0.,  0.,  0.],\n",
      "        [ 0., -1.,  0.],\n",
      "        [ 0., -1.,  0.],\n",
      "        [ 1.,  1.,  1.],\n",
      "        [ 0.,  1.,  1.],\n",
      "        [ 0.,  1.,  1.],\n",
      "        [-1.,  1.,  1.],\n",
      "        [-1.,  1.,  1.],\n",
      "        [ 0.,  1.,  1.],\n",
      "        [-1.,  1.,  1.],\n",
      "        [-1., -1.,  1.],\n",
      "        [ 0., -1.,  1.],\n",
      "        [-1.,  0.,  1.],\n",
      "        [ 0.,  0.,  1.],\n",
      "        [-1.,  0.,  1.],\n",
      "        [ 0.,  0.,  1.],\n",
      "        [ 0.,  0.,  1.],\n",
      "        [ 1.,  0.,  1.],\n",
      "        [ 0.,  0.,  1.],\n",
      "        [-1.,  0.,  1.]])\n"
     ]
    }
   ],
   "source": [
    "# Build neighbor list\n",
    "data.build_neighborlist(cutoff=5.0)\n",
    "edge_index = data.edge_index\n",
    "idx_center, idx_neighbor = edge_index[1], edge_index[0]\n",
    "print(\"Center atom indices:\", idx_center)\n",
    "print(\"Neighbor atom indices:\", idx_neighbor)\n",
    "print(\"Offset vectors:\", data.edge_shift) # Offset vectors towards neighbors outside of unit cell"
   ]
  },
  {
   "cell_type": "markdown",
   "metadata": {},
   "source": [
    "`AtomsGraph` can be directly created from `ase.Atoms`. If pre-computed properties(ex. energy) are available, they are automatically read into `data`."
   ]
  },
  {
   "cell_type": "code",
   "execution_count": 5,
   "metadata": {},
   "outputs": [
    {
     "name": "stdout",
     "output_type": "stream",
     "text": [
      "AtomsGraph(n_atoms=[1], elems=[4], pos=[4, 3], cell=[1, 3, 3], batch=[4], edge_index=[2, 168], edge_shift=[168, 3])\n",
      "Energy: tensor([0.0335])\n",
      "Forces: tensor([[ 0.2283, -0.0933, -0.4044],\n",
      "        [-0.1799,  0.2257,  0.1325],\n",
      "        [-0.2301, -0.4467,  0.2327],\n",
      "        [ 0.1817,  0.3143,  0.0392]])\n",
      "Stress: tensor([[[-0.0073,  0.0004,  0.0012],\n",
      "         [ 0.0004, -0.0061, -0.0003],\n",
      "         [ 0.0012, -0.0003, -0.0082]]])\n"
     ]
    }
   ],
   "source": [
    "import ase.build\n",
    "from ase.calculators.emt import EMT\n",
    "\n",
    "atoms = ase.build.bulk(\"Pt\", \"fcc\", a=3.92, cubic=True)\n",
    "atoms.rattle(0.05)\n",
    "data = AtomsGraph.from_ase(atoms, neighborlist_cutoff=5.0) # Build neighbor list\n",
    "print(data)\n",
    "# If energy, force, and stress are present in ASE Atoms object, they will be automatically read\n",
    "atoms.calc = EMT()\n",
    "data = AtomsGraph.from_ase(atoms, neighborlist_cutoff=5.0) # Build neighbor list\n",
    "print(\"Energy:\", data.energy) # eV\n",
    "print(\"Forces:\", data.force) # eV/A\n",
    "print(\"Stress:\", data.stress) # eV/A^3"
   ]
  },
  {
   "cell_type": "markdown",
   "metadata": {},
   "source": [
    "Multiple data can be stored in one `AtomsGraph` using `Batch` object from `torch_geometric`."
   ]
  },
  {
   "cell_type": "code",
   "execution_count": 6,
   "metadata": {},
   "outputs": [
    {
     "name": "stdout",
     "output_type": "stream",
     "text": [
      "AtomsGraphBatch(n_atoms=[2], elems=[12], pos=[12, 3], cell=[2, 3, 3], batch=[12], edge_index=[2, 392], edge_shift=[392, 3], ptr=[3])\n",
      "tensor([0, 0, 0, 0, 1, 1, 1, 1, 1, 1, 1, 1])\n",
      "Unit cell: tensor([[[3.9200, 0.0000, 0.0000],\n",
      "         [0.0000, 3.9200, 0.0000],\n",
      "         [0.0000, 0.0000, 3.9200]],\n",
      "\n",
      "        [[5.4300, 0.0000, 0.0000],\n",
      "         [0.0000, 5.4300, 0.0000],\n",
      "         [0.0000, 0.0000, 5.4300]]])\n"
     ]
    }
   ],
   "source": [
    "from torch_geometric.data import Batch\n",
    "\n",
    "atoms_1 = ase.build.bulk(\"Pt\", \"fcc\", a=3.92, cubic=True)\n",
    "atoms_2 = ase.build.bulk(\"Si\", \"diamond\", a=5.43, cubic=True)\n",
    "\n",
    "data_1 = AtomsGraph.from_ase(atoms_1, neighborlist_cutoff=5.0)\n",
    "data_2 = AtomsGraph.from_ase(atoms_2, neighborlist_cutoff=5.0)\n",
    "\n",
    "batch = Batch.from_data_list([data_1, data_2])\n",
    "print(batch)\n",
    "print(batch.batch) # 0~3: data_1, 4~12: data_2\n",
    "print(\"Unit cell:\", batch.cell)"
   ]
  }
 ],
 "metadata": {
  "kernelspec": {
   "display_name": "venv",
   "language": "python",
   "name": "python3"
  },
  "language_info": {
   "codemirror_mode": {
    "name": "ipython",
    "version": 3
   },
   "file_extension": ".py",
   "mimetype": "text/x-python",
   "name": "python",
   "nbconvert_exporter": "python",
   "pygments_lexer": "ipython3",
   "version": "3.10.2"
  },
  "orig_nbformat": 4
 },
 "nbformat": 4,
 "nbformat_minor": 2
}
