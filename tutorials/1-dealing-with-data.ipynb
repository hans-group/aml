{
 "cells": [
  {
   "cell_type": "markdown",
   "metadata": {},
   "source": [
    "# 1. Dealing with atomistic data\n",
    "\n",
    "## 1.1. Building graph data structure using `AtomsGraph`\n",
    "\n",
    "- In `aml`, each data point is considered as graph, which has species(`elems`) and atomic positions(`pos`) as default node attributes.\n",
    "- The class `AtomsGraph` is container for atomistic graph data, which is basically `torch_geometric.data.Data` with some additional features.\n",
    "\n",
    "### 1.1.1 Molecules or cluster without PBC\n",
    "\n",
    "- Although all attributes are optional, `elems` and `pos` are common attributes for molecules\n",
    "- `pos` is `(N, 3)` tensor and `elems` is `(N,)` tensor where `N` is number of atoms\n",
    "- `elems` contains atomic numbers of each atom\n",
    "- The attributes `n_atoms` and `cell` are automatically created\n",
    "  - `cell` is filled with zero when no PBC is present"
   ]
  },
  {
   "cell_type": "code",
   "execution_count": 1,
   "metadata": {},
   "outputs": [
    {
     "name": "stdout",
     "output_type": "stream",
     "text": [
      "AtomsGraph(elems=[3], pos=[3, 3], n_atoms=[1], cell=[1, 3, 3])\n"
     ]
    }
   ],
   "source": [
    "import torch\n",
    "from aml.data import AtomsGraph\n",
    "\n",
    "# Water molecule\n",
    "pos = torch.tensor(\n",
    "    [[0.00,  0.00,  0.12],\n",
    "     [0.00,  0.76, -0.48],\n",
    "     [0.00, -0.76, -0.48]]\n",
    ")\n",
    "elems = torch.tensor([8, 1, 1], dtype=torch.long)\n",
    "data = AtomsGraph(elems=elems, pos=pos)\n",
    "print(data)"
   ]
  },
  {
   "cell_type": "markdown",
   "metadata": {},
   "source": [
    "### 1.1.2 Crystals with PBC\n",
    "\n",
    "- Input the unit cell matrix(`cell`) to make crystal data.\n",
    "- `cell` is `(1, 3, 3)` tensor, where `1` is batch dimension to handle multiple data in the future\n",
    "  - For convinience `(3, 3)` tensor is also accepted "
   ]
  },
  {
   "cell_type": "code",
   "execution_count": 2,
   "metadata": {},
   "outputs": [
    {
     "name": "stdout",
     "output_type": "stream",
     "text": [
      "AtomsGraph(elems=[4], pos=[4, 3], cell=[1, 3, 3], n_atoms=[1])\n"
     ]
    }
   ],
   "source": [
    "# Pt FCC crystal\n",
    "pos = torch.tensor(\n",
    "    [[0.00, 0.00, 0.00],\n",
    "     [1.96, 1.96, 0.00],\n",
    "     [1.96, 0.00, 1.96],\n",
    "     [0.00, 1.96, 1.96]]\n",
    ")\n",
    "elems = torch.tensor([78, 78, 78, 78], dtype=torch.long)\n",
    "cell = torch.tensor(\n",
    "    [[3.92, 0.00, 0.00],\n",
    "    [0.00, 3.92, 0.00],\n",
    "    [0.00, 0.00, 3.92]]\n",
    ")\n",
    "data = AtomsGraph(elems=elems, pos=pos, cell=cell)\n",
    "print(data)"
   ]
  },
  {
   "cell_type": "markdown",
   "metadata": {},
   "source": [
    "### 1.1.3 Adding properties into data\n",
    "\n",
    "- Any other properties (ex. energy) can be added to the `data` object."
   ]
  },
  {
   "cell_type": "code",
   "execution_count": 3,
   "metadata": {},
   "outputs": [
    {
     "name": "stdout",
     "output_type": "stream",
     "text": [
      "AtomsGraph(elems=[4], pos=[4, 3], cell=[1, 3, 3], energy=[1], force=[4, 3], n_atoms=[1])\n"
     ]
    }
   ],
   "source": [
    "energy = torch.tensor(-42.0)\n",
    "force = torch.rand(pos.size(0), 3)\n",
    "data = AtomsGraph(elems=elems, pos=pos, cell=cell, energy=energy, force=force)\n",
    "print(data)"
   ]
  },
  {
   "cell_type": "markdown",
   "metadata": {},
   "source": [
    "### 1.1.4 Interface with `ASE`\n",
    "\n",
    "- `AtomsGraph` has two methods to interact with `ASE` package.\n",
    "- `to_ase()`: converts data into `Atoms` object\n",
    "- `from_ase()`: Construct data from `Atoms` object (additionally neighbor list can be built, which will be discussed later)"
   ]
  },
  {
   "cell_type": "code",
   "execution_count": 4,
   "metadata": {},
   "outputs": [
    {
     "name": "stdout",
     "output_type": "stream",
     "text": [
      "Atoms: Atoms(symbols='Pt4', pbc=True, cell=[3.9200000762939453, 3.9200000762939453, 3.9200000762939453], calculator=SinglePointCalculator(...))\n",
      "Data: AtomsGraph(n_atoms=[1], elems=[4], pos=[4, 3], cell=[1, 3, 3], energy=[1], force=[4, 3], batch=[4])\n"
     ]
    }
   ],
   "source": [
    "atoms = data.to_ase()\n",
    "print(\"Atoms:\", atoms)\n",
    "\n",
    "data = AtomsGraph.from_ase(atoms, device=\"cpu\")\n",
    "print(\"Data:\", data)"
   ]
  },
  {
   "cell_type": "markdown",
   "metadata": {},
   "source": [
    "- If pre-computed properties are stored in `Atoms`, `AtomsGraph` automatically read them.\n",
    "- Currently supported auto-read properties: `\"energy\"`, `\"force\"`, `\"stress\"`"
   ]
  },
  {
   "cell_type": "code",
   "execution_count": 5,
   "metadata": {},
   "outputs": [
    {
     "name": "stdout",
     "output_type": "stream",
     "text": [
      "Energy: tensor([0.0335])\n",
      "Forces: tensor([[ 0.2283, -0.0933, -0.4044],\n",
      "        [-0.1799,  0.2257,  0.1325],\n",
      "        [-0.2301, -0.4467,  0.2327],\n",
      "        [ 0.1817,  0.3143,  0.0392]])\n",
      "Stress: tensor([[[-0.0073,  0.0004,  0.0012],\n",
      "         [ 0.0004, -0.0061, -0.0003],\n",
      "         [ 0.0012, -0.0003, -0.0082]]])\n"
     ]
    }
   ],
   "source": [
    "import ase.build\n",
    "from ase.calculators.emt import EMT\n",
    "\n",
    "atoms = ase.build.bulk(\"Pt\", \"fcc\", a=3.92, cubic=True)\n",
    "atoms.rattle(0.05)\n",
    "atoms.calc = EMT()\n",
    "data = AtomsGraph.from_ase(atoms) # Build neighbor list\n",
    "print(\"Energy:\", data.energy) # eV\n",
    "print(\"Forces:\", data.force) # eV/A\n",
    "print(\"Stress:\", data.stress) # eV/A^3"
   ]
  },
  {
   "cell_type": "markdown",
   "metadata": {},
   "source": [
    "### 1.1.5 Assign edges to graph data\n",
    "\n",
    "- Until now we only considered graph-level or node-level data\n",
    "- The key of graph structure is **edge** - encoding the connectivity relationship between nodes\n",
    "- Edges are represented as [adjacency matrix](https://en.wikipedia.org/wiki/Adjacency_matrix). Here [sparse matrix](https://en.wikipedia.org/wiki/Sparse_matrix) format is used to save space.\n",
    "    - `edge_index`: `(2, E)` tensor where `E` is number of edges\n",
    "    - `edge_index[0, i]` and `edge_index[1, i]` are the indices of connected nodes\n",
    "    - See [here](https://pytorch-geometric.readthedocs.io/en/latest/get_started/introduction.html#data-handling-of-graphs) for more details\n",
    "- Typical way of constructing the edges is to consider neighbor list (within cutoff) to be connected with center atoms."
   ]
  },
  {
   "cell_type": "code",
   "execution_count": 6,
   "metadata": {},
   "outputs": [
    {
     "name": "stdout",
     "output_type": "stream",
     "text": [
      "Center atom indices: tensor([0, 0, 0, 0, 0, 0, 0, 0, 0, 0, 0, 0, 1, 1, 1, 1, 1, 1, 1, 1, 1, 1, 1, 1,\n",
      "        2, 2, 2, 2, 2, 2, 2, 2, 2, 2, 2, 2, 3, 3, 3, 3, 3, 3, 3, 3, 3, 3, 3, 3])\n",
      "Neighbor atom indices: tensor([3, 2, 1, 3, 2, 3, 2, 1, 2, 1, 1, 3, 0, 2, 2, 3, 0, 2, 2, 0, 3, 3, 0, 3,\n",
      "        0, 3, 0, 1, 3, 1, 3, 0, 0, 1, 3, 1, 0, 1, 2, 1, 0, 2, 1, 2, 1, 0, 0, 2])\n",
      "Offset vectors: tensor([[ 0.,  0.,  0.],\n",
      "        [ 0.,  0., -1.],\n",
      "        [ 0.,  0., -1.],\n",
      "        [-1.,  0.,  0.],\n",
      "        [-1.,  0., -1.],\n",
      "        [ 0., -1.,  0.],\n",
      "        [ 0.,  0.,  0.],\n",
      "        [ 0., -1.,  0.],\n",
      "        [-1.,  0.,  0.],\n",
      "        [ 0.,  0.,  0.],\n",
      "        [ 0., -1., -1.],\n",
      "        [-1., -1.,  0.],\n",
      "        [ 0.,  1.,  0.],\n",
      "        [ 0.,  0.,  0.],\n",
      "        [-1.,  0.,  0.],\n",
      "        [-1.,  0.,  1.],\n",
      "        [ 0.,  0.,  1.],\n",
      "        [ 0.,  1.,  0.],\n",
      "        [-1.,  1.,  0.],\n",
      "        [ 0.,  1.,  1.],\n",
      "        [ 0.,  0.,  1.],\n",
      "        [ 0.,  0.,  0.],\n",
      "        [ 0.,  0.,  0.],\n",
      "        [-1.,  0.,  0.],\n",
      "        [ 1.,  0.,  1.],\n",
      "        [ 0.,  0.,  0.],\n",
      "        [ 0.,  0.,  1.],\n",
      "        [ 0., -1.,  0.],\n",
      "        [ 0., -1.,  0.],\n",
      "        [ 0.,  0.,  0.],\n",
      "        [ 0., -1.,  1.],\n",
      "        [ 0.,  0.,  0.],\n",
      "        [ 1.,  0.,  0.],\n",
      "        [ 1., -1.,  0.],\n",
      "        [ 0.,  0.,  1.],\n",
      "        [ 1.,  0.,  0.],\n",
      "        [ 0.,  1.,  0.],\n",
      "        [ 0.,  0.,  0.],\n",
      "        [ 0.,  0.,  0.],\n",
      "        [ 1.,  0.,  0.],\n",
      "        [ 1.,  1.,  0.],\n",
      "        [ 0.,  1.,  0.],\n",
      "        [ 0.,  0., -1.],\n",
      "        [ 0.,  0., -1.],\n",
      "        [ 1.,  0., -1.],\n",
      "        [ 0.,  0.,  0.],\n",
      "        [ 1.,  0.,  0.],\n",
      "        [ 0.,  1., -1.]])\n"
     ]
    }
   ],
   "source": [
    "# Build neighbor list\n",
    "data.build_neighborlist(cutoff=3.0)\n",
    "edge_index = data.edge_index\n",
    "idx_center, idx_neighbor = edge_index[1], edge_index[0]\n",
    "print(\"Center atom indices:\", idx_center)\n",
    "print(\"Neighbor atom indices:\", idx_neighbor)\n",
    "print(\"Offset vectors:\", data.edge_shift) # Offset vectors towards neighbors outside of unit cell"
   ]
  },
  {
   "cell_type": "markdown",
   "metadata": {},
   "source": [
    "`AtomsGraph.from_ase` has option to build neighborlist edges when creating graph."
   ]
  },
  {
   "cell_type": "code",
   "execution_count": 7,
   "metadata": {},
   "outputs": [],
   "source": [
    "data = AtomsGraph.from_ase(atoms, neighborlist_cutoff=5.0)"
   ]
  },
  {
   "cell_type": "markdown",
   "metadata": {},
   "source": [
    "### 1.1.6 Dealing with batch of data\n",
    "Multiple data can be stored in one `AtomsGraph` using `Batch` object from `torch_geometric`."
   ]
  },
  {
   "cell_type": "code",
   "execution_count": 8,
   "metadata": {},
   "outputs": [
    {
     "name": "stdout",
     "output_type": "stream",
     "text": [
      "AtomsGraphBatch(n_atoms=[2], elems=[12], pos=[12, 3], cell=[2, 3, 3], batch=[12], edge_index=[2, 392], edge_shift=[392, 3], ptr=[3])\n",
      "tensor([0, 0, 0, 0, 1, 1, 1, 1, 1, 1, 1, 1])\n",
      "Unit cell: tensor([[[3.9200, 0.0000, 0.0000],\n",
      "         [0.0000, 3.9200, 0.0000],\n",
      "         [0.0000, 0.0000, 3.9200]],\n",
      "\n",
      "        [[5.4300, 0.0000, 0.0000],\n",
      "         [0.0000, 5.4300, 0.0000],\n",
      "         [0.0000, 0.0000, 5.4300]]])\n"
     ]
    }
   ],
   "source": [
    "from torch_geometric.data import Batch\n",
    "\n",
    "atoms_1 = ase.build.bulk(\"Pt\", \"fcc\", a=3.92, cubic=True)\n",
    "atoms_2 = ase.build.bulk(\"Si\", \"diamond\", a=5.43, cubic=True)\n",
    "\n",
    "data_1 = AtomsGraph.from_ase(atoms_1, neighborlist_cutoff=5.0)\n",
    "data_2 = AtomsGraph.from_ase(atoms_2, neighborlist_cutoff=5.0)\n",
    "\n",
    "batch = Batch.from_data_list([data_1, data_2])\n",
    "print(batch)\n",
    "print(batch.batch) # 0~3: data_1, 4~12: data_2\n",
    "print(\"Unit cell:\", batch.cell)"
   ]
  },
  {
   "cell_type": "markdown",
   "metadata": {},
   "source": [
    "## 1.2. Using datapipe to create data \n",
    "\n",
    "- `torchdata` package provides tool `DataPipe` for pipelining the data creation workflow\n",
    "- Easy to modularize & compose multiple tasks into single datapipe\n",
    "- Lazy evaluation of pipeline - save memory\n",
    "\n",
    "### 1.2.1 Basic datapipe tutorial\n",
    "\n",
    "- `IterDataPipe` is pipeline to iteratively create dataset\n",
    "- Define `__iter__` as generator that takes other datapipe"
   ]
  },
  {
   "cell_type": "code",
   "execution_count": 9,
   "metadata": {},
   "outputs": [
    {
     "name": "stdout",
     "output_type": "stream",
     "text": [
      "22.0\n",
      "24.0\n",
      "26.0\n",
      "28.0\n"
     ]
    }
   ],
   "source": [
    "from torchdata.datapipes.iter import IterableWrapper, IterDataPipe\n",
    "\n",
    "\n",
    "class AddNumber(IterDataPipe):\n",
    "    def __init__(self, dp: IterDataPipe, num: float):\n",
    "        self.dp = dp\n",
    "        self.num = num\n",
    "\n",
    "    def __iter__(self):\n",
    "        for data in self.dp:\n",
    "            yield data + self.num\n",
    "\n",
    "class MultiplyNumber(IterDataPipe):\n",
    "    def __init__(self, dp: IterDataPipe, num: float):\n",
    "        self.dp = dp\n",
    "        self.num = num\n",
    "\n",
    "    def __iter__(self):\n",
    "        for data in self.dp:\n",
    "            yield data * self.num\n",
    "\n",
    "numbers = [1, 2, 3, 4]\n",
    "my_datapipe = IterableWrapper(numbers)          # Makes ordinary list into equivalent IterDataPipe\n",
    "my_datapipe = AddNumber(my_datapipe, 10.0)      # Apply pipeline 1\n",
    "my_datapipe = MultiplyNumber(my_datapipe, 2.0)  # Apply pipeline 2\n",
    "\n",
    "# Test\n",
    "for data in my_datapipe:\n",
    "    print(data)"
   ]
  },
  {
   "cell_type": "markdown",
   "metadata": {},
   "source": [
    "### 1.2.2 Datapipes to create `AtomsGraph`\n",
    "\n",
    "- `aml` provides some `DataPipe`s to create `AtomsGraph`\n",
    "    - `ASEFileReader`: read structure files (ex. `xyz`, `traj`, `vasprun.xml`, ...) using `ase.io`\n",
    "    - `AtomsGraphParser`: Convert `Atoms` into `AtomsGraph`\n",
    "    - `NeighborListBuilder`: Build neighbor list edges for `AtomsGraph`"
   ]
  },
  {
   "cell_type": "code",
   "execution_count": 10,
   "metadata": {},
   "outputs": [
    {
     "name": "stdout",
     "output_type": "stream",
     "text": [
      "==== ASEFileReader ====\n",
      "Atoms(symbols='OH2', pbc=False)\n",
      "Atoms(symbols='C2H2', pbc=False)\n",
      "Atoms(symbols='C2H4', pbc=False)\n",
      "Atoms(symbols='C6H6', pbc=False)\n",
      "Atoms(symbols='C2H6', pbc=False)\n",
      "Atoms(symbols='C2OH6', pbc=False)\n",
      "Atoms(symbols='NH3', pbc=False)\n",
      "\n",
      "==== AtomsGraphParser ====\n",
      "AtomsGraph(n_atoms=[1], elems=[3], pos=[3, 3], cell=[1, 3, 3], batch=[3])\n",
      "AtomsGraph(n_atoms=[1], elems=[4], pos=[4, 3], cell=[1, 3, 3], batch=[4])\n",
      "AtomsGraph(n_atoms=[1], elems=[6], pos=[6, 3], cell=[1, 3, 3], batch=[6])\n",
      "AtomsGraph(n_atoms=[1], elems=[12], pos=[12, 3], cell=[1, 3, 3], batch=[12])\n",
      "AtomsGraph(n_atoms=[1], elems=[8], pos=[8, 3], cell=[1, 3, 3], batch=[8])\n",
      "AtomsGraph(n_atoms=[1], elems=[9], pos=[9, 3], cell=[1, 3, 3], batch=[9])\n",
      "AtomsGraph(n_atoms=[1], elems=[4], pos=[4, 3], cell=[1, 3, 3], batch=[4])\n",
      "\n",
      "==== NeighborListBuilder ====\n",
      "AtomsGraph(n_atoms=[1], elems=[3], pos=[3, 3], cell=[1, 3, 3], batch=[3], edge_index=[2, 6], edge_shift=[6, 3])\n",
      "AtomsGraph(n_atoms=[1], elems=[4], pos=[4, 3], cell=[1, 3, 3], batch=[4], edge_index=[2, 12], edge_shift=[12, 3])\n",
      "AtomsGraph(n_atoms=[1], elems=[6], pos=[6, 3], cell=[1, 3, 3], batch=[6], edge_index=[2, 30], edge_shift=[30, 3])\n",
      "AtomsGraph(n_atoms=[1], elems=[12], pos=[12, 3], cell=[1, 3, 3], batch=[12], edge_index=[2, 132], edge_shift=[132, 3])\n",
      "AtomsGraph(n_atoms=[1], elems=[8], pos=[8, 3], cell=[1, 3, 3], batch=[8], edge_index=[2, 56], edge_shift=[56, 3])\n",
      "AtomsGraph(n_atoms=[1], elems=[9], pos=[9, 3], cell=[1, 3, 3], batch=[9], edge_index=[2, 72], edge_shift=[72, 3])\n",
      "AtomsGraph(n_atoms=[1], elems=[4], pos=[4, 3], cell=[1, 3, 3], batch=[4], edge_index=[2, 12], edge_shift=[12, 3])\n",
      "\n"
     ]
    }
   ],
   "source": [
    "from aml.data.datapipes import ASEFileReader, AtomsGraphParser, NeighborListBuilder\n",
    "\n",
    "file_srcs = [\"data/molecules_1.xyz\", \"data/molecules_2.xyz\"] # Multiple files supported\n",
    "dp = IterableWrapper(file_srcs)\n",
    "\n",
    "print(\"==== ASEFileReader ====\")\n",
    "dp = ASEFileReader(dp)\n",
    "for atoms in dp:\n",
    "    print(atoms)\n",
    "print()\n",
    "\n",
    "print(\"==== AtomsGraphParser ====\")\n",
    "dp = AtomsGraphParser(dp)\n",
    "for data in dp:\n",
    "    print(data)\n",
    "print()\n",
    "\n",
    "print(\"==== NeighborListBuilder ====\")\n",
    "dp = NeighborListBuilder(dp, cutoff=5.0)\n",
    "for data in dp:\n",
    "    print(data)\n",
    "print()\n",
    "\n"
   ]
  },
  {
   "cell_type": "code",
   "execution_count": 11,
   "metadata": {},
   "outputs": [
    {
     "name": "stdout",
     "output_type": "stream",
     "text": [
      "AtomsGraph(n_atoms=[1], elems=[3], pos=[3, 3], cell=[1, 3, 3], batch=[3], edge_index=[2, 6], edge_shift=[6, 3])\n",
      "AtomsGraph(n_atoms=[1], elems=[4], pos=[4, 3], cell=[1, 3, 3], batch=[4], edge_index=[2, 12], edge_shift=[12, 3])\n",
      "AtomsGraph(n_atoms=[1], elems=[6], pos=[6, 3], cell=[1, 3, 3], batch=[6], edge_index=[2, 30], edge_shift=[30, 3])\n",
      "AtomsGraph(n_atoms=[1], elems=[12], pos=[12, 3], cell=[1, 3, 3], batch=[12], edge_index=[2, 132], edge_shift=[132, 3])\n",
      "AtomsGraph(n_atoms=[1], elems=[8], pos=[8, 3], cell=[1, 3, 3], batch=[8], edge_index=[2, 56], edge_shift=[56, 3])\n",
      "AtomsGraph(n_atoms=[1], elems=[9], pos=[9, 3], cell=[1, 3, 3], batch=[9], edge_index=[2, 72], edge_shift=[72, 3])\n",
      "AtomsGraph(n_atoms=[1], elems=[4], pos=[4, 3], cell=[1, 3, 3], batch=[4], edge_index=[2, 12], edge_shift=[12, 3])\n"
     ]
    }
   ],
   "source": [
    "# all in one\n",
    "def make_dp(src, neighbor_cutoff):\n",
    "    if isinstance(src, str):\n",
    "        src = [src]\n",
    "    dp = IterableWrapper(src)\n",
    "    dp = ASEFileReader(dp)\n",
    "    dp = AtomsGraphParser(dp)\n",
    "    dp = NeighborListBuilder(dp, neighbor_cutoff)\n",
    "    return dp\n",
    "\n",
    "dp = make_dp([\"data/molecules_1.xyz\", \"data/molecules_2.xyz\"], 5.0)\n",
    "for data in dp:\n",
    "    print(data)"
   ]
  }
 ],
 "metadata": {
  "kernelspec": {
   "display_name": "Python 3 (ipykernel)",
   "language": "python",
   "name": "python3"
  },
  "language_info": {
   "codemirror_mode": {
    "name": "ipython",
    "version": 3
   },
   "file_extension": ".py",
   "mimetype": "text/x-python",
   "name": "python",
   "nbconvert_exporter": "python",
   "pygments_lexer": "ipython3",
   "version": "3.10.12"
  }
 },
 "nbformat": 4,
 "nbformat_minor": 4
}
