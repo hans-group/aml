{
 "cells": [
  {
   "cell_type": "markdown",
   "id": "410457d3-e9e2-40bb-a475-38813e31c1b2",
   "metadata": {},
   "source": [
    "# 2. Making dataset\n",
    "\n",
    "- `Dataset` is central for machine learning model\n",
    "- `aml` offers `BaseDataset`\n",
    "- Below are subclasses of `BaseDataset` \n",
    "\n",
    "## 2.1. InMemoryDataset\n",
    "\n",
    "- Hold all data in memory, therefore the fastest\n",
    "- Not appropriate if the size of dataset is very big\n",
    "- Only requires iterable of data (ex. list of data, datapipe, ...)\n",
    "- Can be saved to disk and loaded"
   ]
  },
  {
   "cell_type": "code",
   "execution_count": 2,
   "id": "7c54e9fa-c73b-42b8-8ca2-2241432efcb1",
   "metadata": {},
   "outputs": [
    {
     "data": {
      "text/plain": [
       "InMemoryDataset(7)"
      ]
     },
     "execution_count": 2,
     "metadata": {},
     "output_type": "execute_result"
    }
   ],
   "source": [
    "from aml.data.datapipes import ASEFileReader, AtomsGraphParser, NeighborListBuilder\n",
    "from torchdata.datapipes.iter import IterableWrapper\n",
    "\n",
    "# Import InMemoryDataset\n",
    "from aml.data.dataset import InMemoryDataset\n",
    "\n",
    "def make_dp(src, neighbor_cutoff):\n",
    "    if isinstance(src, str):\n",
    "        src = [src]\n",
    "    dp = IterableWrapper(src)\n",
    "    dp = ASEFileReader(dp)\n",
    "    dp = AtomsGraphParser(dp)\n",
    "    dp = NeighborListBuilder(dp, neighbor_cutoff)\n",
    "    return dp\n",
    "\n",
    "dp = make_dp([\"data/molecules_1.xyz\", \"data/molecules_2.xyz\"], 5.0)\n",
    "in_memory_dataset = InMemoryDataset(dp)\n",
    "in_memory_dataset"
   ]
  },
  {
   "cell_type": "code",
   "execution_count": 3,
   "id": "f0808b07-116f-46d9-abd1-3cf871fbd13d",
   "metadata": {},
   "outputs": [
    {
     "data": {
      "text/plain": [
       "InMemoryDataset(7)"
      ]
     },
     "execution_count": 3,
     "metadata": {},
     "output_type": "execute_result"
    }
   ],
   "source": [
    "in_memory_dataset.save(\"dataset.pt\")\n",
    "in_memory_dataset_2 = InMemoryDataset.load(\"dataset.pt\")\n",
    "in_memory_dataset_2"
   ]
  },
  {
   "cell_type": "markdown",
   "id": "7dc6420c-87e1-457b-af9a-d49a7fdabf37",
   "metadata": {},
   "source": [
    "## 2.2. ASEDataset\n",
    "\n",
    "- Kind of(=subclass of) `InMemoryDataset`\n",
    "- Read the files using `ASE` and create `InMemoryDataset`\n",
    "- Builds neighborlist at the time of dataset creation"
   ]
  },
  {
   "cell_type": "code",
   "execution_count": 4,
   "id": "18d6b316-6378-41da-b04d-b89a7876047e",
   "metadata": {},
   "outputs": [
    {
     "name": "stderr",
     "output_type": "stream",
     "text": [
      "7it [00:00, 237.50it/s]\n"
     ]
    },
    {
     "data": {
      "text/plain": [
       "ASEDataset(7)"
      ]
     },
     "execution_count": 4,
     "metadata": {},
     "output_type": "execute_result"
    }
   ],
   "source": [
    "from aml.data.dataset import ASEDataset\n",
    "\n",
    "ase_dataset = ASEDataset(\n",
    "    data_source=[\"data/molecules_1.xyz\", \"data/molecules_2.xyz\"],\n",
    "    index=[\":\", \":\"],\n",
    "    neighborlist_cutoff=5.0,\n",
    "    neighborlist_backend=\"ase\",\n",
    "    progress_bar=True,\n",
    ")\n",
    "ase_dataset"
   ]
  },
  {
   "cell_type": "markdown",
   "id": "2f55f3c6-1290-4201-bb23-999d291587ef",
   "metadata": {},
   "source": [
    "## 2.3. LMDBDataset\n",
    "\n",
    "- Reads `lmdb` database from file\n",
    "- Fast and memory-effective\n",
    "- Can be created using `dataest.write_lmdb` or `aml.data.utils.write_lmdb_dataset`"
   ]
  },
  {
   "cell_type": "code",
   "execution_count": 5,
   "id": "60cd70b9-319c-4c55-9824-ffd62463cabb",
   "metadata": {},
   "outputs": [
    {
     "name": "stderr",
     "output_type": "stream",
     "text": [
      "100%|███████████████████████████████████████████████████████████████████████████████████████████████████████| 7/7 [00:00<00:00, 1444.46it/s]\n"
     ]
    }
   ],
   "source": [
    "import os\n",
    "from aml.data.utils import write_lmdb_dataset\n",
    "\n",
    "files_for_cleanup = [\n",
    "    \"lmdb_dataset.lmdb\",\n",
    "    \"lmdb_dataset.lmdb-lock\",\n",
    "    \"lmdb_dataset_2.lmdb\",\n",
    "    \"lmdb_dataset_2.lmdb-lock\",\n",
    "]\n",
    "# Cleanup\n",
    "for file in files_for_cleanup:\n",
    "    if os.path.isfile(file):\n",
    "        os.remove(file)\n",
    "\n",
    "# using write_lmdb_dataset\n",
    "write_lmdb_dataset(\n",
    "    dp,\n",
    "    \"lmdb_dataset.lmdb\",\n",
    "    compress=True,\n",
    "    metadata={\"description\": \"created using write_lmdb_dataset\"}, # optional\n",
    ")\n",
    "\n",
    "# using dataset.write_lmdb\n",
    "ase_dataset.write_lmdb(\"lmdb_dataset_2.lmdb\", compress=True)"
   ]
  },
  {
   "cell_type": "code",
   "execution_count": 6,
   "id": "c94d9cc3-f6f3-4cc0-9e8c-cb236a2e3752",
   "metadata": {},
   "outputs": [
    {
     "data": {
      "text/plain": [
       "LMDBDataset(7)"
      ]
     },
     "execution_count": 6,
     "metadata": {},
     "output_type": "execute_result"
    }
   ],
   "source": [
    "from aml.data.dataset import LMDBDataset\n",
    "\n",
    "lmdb_dataset = LMDBDataset(\"lmdb_dataset.lmdb\")\n",
    "lmdb_dataset"
   ]
  },
  {
   "cell_type": "markdown",
   "id": "46fad0a9-3674-4669-8e6c-324f408c0bc6",
   "metadata": {},
   "source": [
    "### 2.4 How to use datasets"
   ]
  },
  {
   "cell_type": "code",
   "execution_count": 7,
   "id": "f6690e1e-c971-4517-8feb-1139c1370085",
   "metadata": {},
   "outputs": [
    {
     "name": "stdout",
     "output_type": "stream",
     "text": [
      "AtomsGraph(n_atoms=[1], elems=[3], pos=[3, 3], cell=[1, 3, 3], batch=[3], edge_index=[2, 6], edge_shift=[6, 3])\n"
     ]
    }
   ],
   "source": [
    "import torch\n",
    "# Accessing by single index\n",
    "data = lmdb_dataset[0]\n",
    "print(data)"
   ]
  },
  {
   "cell_type": "code",
   "execution_count": 8,
   "id": "4cc2c5a8-4de3-45e4-a659-484a85bc265d",
   "metadata": {},
   "outputs": [
    {
     "name": "stdout",
     "output_type": "stream",
     "text": [
      "LMDBDataset(3)\n"
     ]
    }
   ],
   "source": [
    "# Accessing by tensor index to create subset\n",
    "idx = torch.tensor([0, 3, 4])\n",
    "subset = lmdb_dataset[idx]\n",
    "print(subset)"
   ]
  },
  {
   "cell_type": "code",
   "execution_count": 9,
   "id": "73e58f16-fad3-4c3c-8768-a1cc34fed95d",
   "metadata": {},
   "outputs": [
    {
     "name": "stdout",
     "output_type": "stream",
     "text": [
      "LMDBDataset(3)\n",
      "LMDBDataset(4) LMDBDataset(3)\n",
      "LMDBDataset(3) LMDBDataset(2) LMDBDataset(2)\n"
     ]
    }
   ],
   "source": [
    "# Methods for creating subsets\n",
    "subset = lmdb_dataset.subset(0.5) # 0.5 is fraction\n",
    "print(subset)\n",
    "\n",
    "dataset_1, dataset_2 = lmdb_dataset.split(0.7)\n",
    "print(dataset_1, dataset_2)\n",
    "\n",
    "train_dataset, val_dataset, test_dataset = lmdb_dataset.train_val_test_split(0.5, 0.3)\n",
    "print(train_dataset, val_dataset, test_dataset)"
   ]
  },
  {
   "cell_type": "code",
   "execution_count": 10,
   "id": "9d517283-4bf6-4a24-85e1-d793164e9515",
   "metadata": {},
   "outputs": [
    {
     "name": "stdout",
     "output_type": "stream",
     "text": [
      "AtomsGraphBatch(n_atoms=[3], elems=[22], pos=[22, 3], cell=[3, 3, 3], batch=[22], edge_index=[2, 174], edge_shift=[174, 3], ptr=[4])\n",
      "AtomsGraphBatch(n_atoms=[3], elems=[20], pos=[20, 3], cell=[3, 3, 3], batch=[20], edge_index=[2, 134], edge_shift=[134, 3], ptr=[4])\n",
      "AtomsGraphBatch(n_atoms=[1], elems=[4], pos=[4, 3], cell=[1, 3, 3], batch=[4], edge_index=[2, 12], edge_shift=[12, 3], ptr=[2])\n"
     ]
    }
   ],
   "source": [
    "# Dataloader\n",
    "from torch_geometric.loader import DataLoader\n",
    "\n",
    "dataloader = DataLoader(lmdb_dataset, batch_size=3, shuffle=True)\n",
    "for batch in dataloader:\n",
    "    print(batch)"
   ]
  },
  {
   "cell_type": "markdown",
   "id": "1bc1db67-c3cb-443b-8b3c-c53ec0dc4972",
   "metadata": {},
   "source": [
    "### 2.5 Using configuration dictionary to create & save dataset config\n",
    "\n",
    "- All datasets (except `InMemoryDataset`) can be constructed from config dictionary\n",
    "- Two methods exists: `get_config`, `from_config`\n",
    "- The special key `\"@name\"` is required to specify which class to use"
   ]
  },
  {
   "cell_type": "code",
   "execution_count": 11,
   "id": "3ec5dbd3-e099-4953-bae0-4d27e23de363",
   "metadata": {},
   "outputs": [
    {
     "name": "stdout",
     "output_type": "stream",
     "text": [
      "{'@name': 'ase_dataset',\n",
      " 'atomref_energies': None,\n",
      " 'data_source': ['/Users/mjhong/Documents/Github/aml/tutorials/data/molecules_1.xyz',\n",
      "                 '/Users/mjhong/Documents/Github/aml/tutorials/data/molecules_2.xyz'],\n",
      " 'index': [':', ':'],\n",
      " 'neighborlist_backend': 'ase',\n",
      " 'neighborlist_cutoff': 5.0,\n",
      " 'progress_bar': True}\n"
     ]
    }
   ],
   "source": [
    "# Example (data_source may be different since it uses absolute path)\n",
    "from pprint import pprint\n",
    "config = ase_dataset.get_config()\n",
    "pprint(config)"
   ]
  },
  {
   "cell_type": "code",
   "execution_count": 12,
   "id": "4e064447-4c1c-47ac-8a8c-96ca404cd943",
   "metadata": {},
   "outputs": [
    {
     "name": "stderr",
     "output_type": "stream",
     "text": [
      "7it [00:00, 287.90it/s]\n",
      "7it [00:00, 498.72it/s]\n"
     ]
    }
   ],
   "source": [
    "from aml.data.dataset import BaseDataset\n",
    "\n",
    "ase_dataset_from_config = ASEDataset.from_config(config)\n",
    "# Since \"@name\" is specified, the dataset can be created from base class\n",
    "ase_dataset_from_basedataset = BaseDataset.from_config(config)"
   ]
  }
 ],
 "metadata": {
  "kernelspec": {
   "display_name": "Python 3 (ipykernel)",
   "language": "python",
   "name": "python3"
  },
  "language_info": {
   "codemirror_mode": {
    "name": "ipython",
    "version": 3
   },
   "file_extension": ".py",
   "mimetype": "text/x-python",
   "name": "python",
   "nbconvert_exporter": "python",
   "pygments_lexer": "ipython3",
   "version": "3.10.12"
  }
 },
 "nbformat": 4,
 "nbformat_minor": 5
}
